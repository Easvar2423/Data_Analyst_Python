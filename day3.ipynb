{
 "cells": [
  {
   "cell_type": "code",
   "execution_count": 1,
   "id": "4aa3d937-bbd8-41ad-af23-350a9dc06627",
   "metadata": {},
   "outputs": [
    {
     "name": "stdin",
     "output_type": "stream",
     "text": [
      "Enter the total sales amount:  100000\n",
      "Enter the total expense amount:  50000\n"
     ]
    },
    {
     "name": "stdout",
     "output_type": "stream",
     "text": [
      "Profit: 50000.0\n",
      "Good profit\n",
      "Congratulations!\n"
     ]
    }
   ],
   "source": [
    "# Taking sales and expense input from the user\n",
    "sales = float(input(\"Enter the total sales amount: \"))\n",
    "expense = float(input(\"Enter the total expense amount: \"))\n",
    "\n",
    "# Calculating profit\n",
    "profit = sales - expense\n",
    "\n",
    "# Printing the profit\n",
    "print(f\"Profit: {profit}\")\n",
    "\n",
    "# Checking if the profit is greater than 9000 and printing the appropriate message\n",
    "if profit > 9000:\n",
    "    print(\"Good profit\")\n",
    "    print(\"Congratulations!\")\n",
    "else:\n",
    "    print(\"Poor profit\")\n",
    "    print(\"Work hard!\")"
   ]
  },
  {
   "cell_type": "code",
   "execution_count": 3,
   "id": "bf15daa1-84f6-48ff-9087-a986e567ea80",
   "metadata": {},
   "outputs": [
    {
     "name": "stdin",
     "output_type": "stream",
     "text": [
      "enter the sales amount:  50000\n",
      "Enter the expense amount:  1000\n"
     ]
    },
    {
     "name": "stdout",
     "output_type": "stream",
     "text": [
      "49000\n",
      "Good profit\n",
      "congrats\n"
     ]
    }
   ],
   "source": [
    "sales = int(input(\"enter the sales amount: \"));\n",
    "expense = int(input(\"Enter the expense amount: \"));\n",
    "profit = sales - expense;\n",
    "print (profit)\n",
    "if profit > 9000:\n",
    "    print(\"Good profit\")\n",
    "    print(\"congrats\")\n",
    "else:\n",
    "    print(\"poor profit\")\n",
    "    print(\"workhard\")"
   ]
  },
  {
   "cell_type": "code",
   "execution_count": 7,
   "id": "a66d0503-16ae-4409-957a-d5dc176700d7",
   "metadata": {},
   "outputs": [
    {
     "data": {
      "text/plain": [
       "'\\nCalculate the profit (sales – exp) \\n\\nIf profit > 9000, print \"good profit\" & \"congratulation \\n\\nElse print \"poor profit\" & work-hard\" \\n'"
      ]
     },
     "execution_count": 7,
     "metadata": {},
     "output_type": "execute_result"
    }
   ],
   "source": [
    "\n",
    "##Task 1: take sales,expense as input from user \n",
    "'''\n",
    "Calculate the profit (sales – exp) \n",
    "\n",
    "If profit > 9000, print \"good profit\" & \"congratulation \n",
    "\n",
    "Else print \"poor profit\" & work-hard\" \n",
    "'''"
   ]
  },
  {
   "cell_type": "code",
   "execution_count": null,
   "id": "ab09279c-8d54-4c12-98ce-f111085702f0",
   "metadata": {},
   "outputs": [],
   "source": [
    "#task2\n",
    "'''\n",
    "Task 2:\n",
    "Program to print performamce of company depending on qty sold\n",
    "take qty sold value from user\n",
    "qty_sold >= 900 ... print excellent performace\n",
    "qty_sold >= 750 ... print above average performace\n",
    "qty_sold >= 500 ... print average performace\n",
    "else print poor performance\n",
    "'''"
   ]
  },
  {
   "cell_type": "code",
   "execution_count": 8,
   "id": "e6e51ac5-3be9-4503-8157-864cf7267dec",
   "metadata": {},
   "outputs": [
    {
     "name": "stdin",
     "output_type": "stream",
     "text": [
      "Enter the quantity sold:  400\n"
     ]
    },
    {
     "name": "stdout",
     "output_type": "stream",
     "text": [
      "Poor performance\n"
     ]
    }
   ],
   "source": [
    "# Get quantity sold from the user\n",
    "qty_sold = int(input(\"Enter the quantity sold: \"))\n",
    "\n",
    "# Determine performance based on quantity sold\n",
    "if qty_sold >= 900:\n",
    "    print(\"Excellent performance\")\n",
    "elif qty_sold >= 750:\n",
    "    print(\"Above average performance\")\n",
    "elif qty_sold >= 500:\n",
    "    print(\"Average performance\")\n",
    "else:\n",
    "    print(\"Poor performance\")"
   ]
  },
  {
   "cell_type": "code",
   "execution_count": 9,
   "id": "bfaa9ae8-beee-409c-956d-d5e04690242c",
   "metadata": {},
   "outputs": [
    {
     "name": "stdin",
     "output_type": "stream",
     "text": [
      "enter the quantity:  400\n"
     ]
    },
    {
     "name": "stdout",
     "output_type": "stream",
     "text": [
      "need to work hard\n"
     ]
    }
   ],
   "source": [
    "qty= int(input(\"enter the quantity sold: \"))\n",
    "if qty>=900:\n",
    "    print(\"excellent\")\n",
    "elif qty>=750:\n",
    "    print(\"above average performance\")\n",
    "elif qty>=500:\n",
    "    print(\"avg performance\")\n",
    "else:\n",
    "    print(\"need to work hard\")"
   ]
  },
  {
   "cell_type": "code",
   "execution_count": 13,
   "id": "82f1cf62-cbeb-4c4e-a304-a4ba2a138b42",
   "metadata": {},
   "outputs": [
    {
     "name": "stdin",
     "output_type": "stream",
     "text": [
      "enter the quantity sold:  1000\n"
     ]
    },
    {
     "name": "stdout",
     "output_type": "stream",
     "text": [
      "the quantity you sold is  1000\n",
      "excellent\n"
     ]
    }
   ],
   "source": [
    "## input in interger data type for get input we use Input function value to assign is qty, qty is the value\n",
    "qty= int(input(\"enter the quantity sold: \"))\n",
    "## print function (\"string\", value)\n",
    "print(\"the quantity you sold is \",qty)\n",
    "## coditional statement \":\" is important for this syntax\n",
    "## if statement and logic function\n",
    "if (qty>=900):\n",
    "## print for thhe above logic function\n",
    "    print(\"excellent\")\n",
    "## elif statement and logic function\n",
    "elif (qty>=750):\n",
    "## print for thhe above logic function\n",
    "    print(\"above average performance\")\n",
    "## elif statement and logic function\n",
    "elif (qty>=500):\n",
    "## print for thhe above logic function\n",
    "    print(\"avg performance\")\n",
    "## else statement and logic function\n",
    "else:\n",
    "## if nothing statisfy print\n",
    "    print(\"need to work hard\")"
   ]
  },
  {
   "cell_type": "code",
   "execution_count": null,
   "id": "a46e0756-0854-43a2-8f27-0afcc7729e7e",
   "metadata": {},
   "outputs": [],
   "source": [
    "## task 3\n",
    "'''\n",
    "Task 3:\n",
    "Take salary as input fron user\n",
    "Check if salary <=0 and > 300000 ==> print invalid salary\n",
    "salary between 0 and 50000 ==> print Junior Manager\n",
    "salary between 50000 and 100000 ==> print Middle Level Manager\n",
    "salary between 100000 and 300000 ==> print Senior Manager\n",
    "'''"
   ]
  },
  {
   "cell_type": "code",
   "execution_count": 15,
   "id": "7ef43bed-0a94-40a1-87bd-d82ba9943d4f",
   "metadata": {},
   "outputs": [
    {
     "name": "stdin",
     "output_type": "stream",
     "text": [
      "Enter the salary:  50000\n"
     ]
    },
    {
     "name": "stdout",
     "output_type": "stream",
     "text": [
      "Junior Manager\n"
     ]
    }
   ],
   "source": [
    "# Get salary input from the user\n",
    "salary = float(input(\"Enter the salary: \"))\n",
    "\n",
    "# Check and print the job title based on salary\n",
    "if salary <= 0 or salary > 300000:\n",
    "    print(\"Invalid salary\")\n",
    "elif salary <= 50000:\n",
    "    print(\"Junior Manager\")\n",
    "elif salary <= 100000:\n",
    "    print(\"Middle Level Manager\")\n",
    "elif salary <= 300000:\n",
    "    print(\"Senior Manager\")"
   ]
  },
  {
   "cell_type": "code",
   "execution_count": 18,
   "id": "1886fd8d-cf0c-4daf-adf3-1b3f2496737f",
   "metadata": {},
   "outputs": [
    {
     "name": "stdin",
     "output_type": "stream",
     "text": [
      "Enter the salary:  1000\n"
     ]
    },
    {
     "name": "stdout",
     "output_type": "stream",
     "text": [
      "Entered salary amount is :  1000.0\n",
      "Junior Manager\n"
     ]
    }
   ],
   "source": [
    "salary = float(input(\"Enter the salary: \"))\n",
    "print (\"Entered salary amount is : \",salary)\n",
    "if (salary <= 0) or (salary > 300000):\n",
    "    print(\"Invalid salary\")\n",
    "elif (salary <= 50000):\n",
    "    print(\"Junior Manager\")\n",
    "elif (salary <= 100000):\n",
    "    print(\"Middle Level Manager\")\n",
    "elif salary <= 300000:\n",
    "    print(\"Senior Manager\")"
   ]
  },
  {
   "cell_type": "code",
   "execution_count": 23,
   "id": "4febb25d-ff01-4183-8580-95d8fe4716e3",
   "metadata": {},
   "outputs": [
    {
     "name": "stdin",
     "output_type": "stream",
     "text": [
      "Enter the salary:  0\n"
     ]
    },
    {
     "name": "stdout",
     "output_type": "stream",
     "text": [
      "Entered salary amount is :  0.0\n",
      "invalid salary\n"
     ]
    }
   ],
   "source": [
    "salary = float(input(\"Enter the salary: \"))\n",
    "print (\"Entered salary amount is : \",salary)\n",
    "if (salary <= 0 or salary > 300000):\n",
    "    print (\"invalid salary\")\n",
    "elif(salary>0 and salary<=50000):\n",
    "    print(\"junior manager\")\n",
    "elif(salary>50000 and salary<=100000):\n",
    "    print(\"middle level manger\");\n",
    "elif(salary>100000 and salary <= 300000):\n",
    "    print(\"senior manager\")"
   ]
  },
  {
   "cell_type": "code",
   "execution_count": null,
   "id": "a7294380-a1e8-4b08-b2c0-26c706f4714d",
   "metadata": {},
   "outputs": [],
   "source": [
    "'''\n",
    "Task 4:\n",
    "Take a number input from user\n",
    "Using for loop, print the table for that number\n",
    "7 x 1 = 7\n",
    "7 x 2 = 14\n",
    "Hint : print(num, \"x\", i, \"=\", prod) which should be in for loop\n",
    "'''"
   ]
  },
  {
   "cell_type": "code",
   "execution_count": 24,
   "id": "c31ae12a-bcbb-40f0-9d71-514318273fe4",
   "metadata": {},
   "outputs": [
    {
     "name": "stdin",
     "output_type": "stream",
     "text": [
      "Enter a number:  6\n"
     ]
    },
    {
     "name": "stdout",
     "output_type": "stream",
     "text": [
      "6 x 1 = 6\n",
      "6 x 2 = 12\n",
      "6 x 3 = 18\n",
      "6 x 4 = 24\n",
      "6 x 5 = 30\n",
      "6 x 6 = 36\n",
      "6 x 7 = 42\n",
      "6 x 8 = 48\n",
      "6 x 9 = 54\n",
      "6 x 10 = 60\n"
     ]
    }
   ],
   "source": [
    "# Get number input from the user\n",
    "num = int(input(\"Enter a number: \"))\n",
    "\n",
    "# Print the multiplication table for the entered number\n",
    "for i in range(1, 11):\n",
    "    prod = num * i\n",
    "    print(num, \"x\", i, \"=\", prod)"
   ]
  },
  {
   "cell_type": "code",
   "execution_count": 25,
   "id": "9fd7446d-aaf3-49c7-8ad9-429dd90fc914",
   "metadata": {},
   "outputs": [
    {
     "name": "stdin",
     "output_type": "stream",
     "text": [
      "Enter a number:  6\n"
     ]
    },
    {
     "name": "stdout",
     "output_type": "stream",
     "text": [
      "6 x 0 = 0\n",
      "6 x 1 = 6\n",
      "6 x 2 = 12\n",
      "6 x 3 = 18\n",
      "6 x 4 = 24\n",
      "6 x 5 = 30\n",
      "6 x 6 = 36\n",
      "6 x 7 = 42\n",
      "6 x 8 = 48\n",
      "6 x 9 = 54\n",
      "6 x 10 = 60\n"
     ]
    }
   ],
   "source": [
    "# Get number input from the user\n",
    "num = int(input(\"Enter a number: \"))\n",
    "\n",
    "# Print the multiplication table for the entered number\n",
    "for i in range(0, 11):\n",
    "    prod = num * i\n",
    "    print(num, \"x\", i, \"=\", prod)"
   ]
  },
  {
   "cell_type": "code",
   "execution_count": 29,
   "id": "65d1ebb8-bb4b-424b-9718-4c7c218a1aac",
   "metadata": {},
   "outputs": [
    {
     "name": "stdin",
     "output_type": "stream",
     "text": [
      "Enter a number:  7\n"
     ]
    },
    {
     "name": "stdout",
     "output_type": "stream",
     "text": [
      "multiplication table for value :  7\n",
      "7 x 1 = 7\n",
      "7 x 2 = 14\n",
      "7 x 3 = 21\n",
      "7 x 4 = 28\n",
      "7 x 5 = 35\n",
      "7 x 6 = 42\n",
      "7 x 7 = 49\n",
      "7 x 8 = 56\n",
      "7 x 9 = 63\n",
      "7 x 10 = 70\n"
     ]
    }
   ],
   "source": [
    "multy = int(input(\"Enter a number: \"))\n",
    "print(\"multiplication table for value : \",multy)\n",
    "for i in range(1, 11):\n",
    "    prod = multy * i\n",
    "    print(multy, \"x\", i, \"=\", prod)"
   ]
  },
  {
   "cell_type": "code",
   "execution_count": 31,
   "id": "a5efcfe1-251a-4873-9c37-992781acc957",
   "metadata": {},
   "outputs": [
    {
     "name": "stdin",
     "output_type": "stream",
     "text": [
      "Multiplication value:  7\n"
     ]
    },
    {
     "name": "stdout",
     "output_type": "stream",
     "text": [
      "multiplicaton number:  7\n",
      "7  x  1  =  7\n",
      "7  x  2  =  14\n",
      "7  x  3  =  21\n",
      "7  x  4  =  28\n",
      "7  x  5  =  35\n",
      "7  x  6  =  42\n",
      "7  x  7  =  49\n",
      "7  x  8  =  56\n",
      "7  x  9  =  63\n",
      "7  x  10  =  70\n",
      "good\n"
     ]
    }
   ],
   "source": [
    "multi = int(input(\"Multiplication value: \"))\n",
    "print (\"multiplicaton number: \",multi)\n",
    "i = 1\n",
    "while (i <= 10):\n",
    "    product = multi * i\n",
    "    print (multi,\" x \",i,\" = \",product)\n",
    "    i=i+1\n",
    "else:\n",
    "    print(\"good\")"
   ]
  },
  {
   "cell_type": "code",
   "execution_count": null,
   "id": "0bbb8d28-c4a3-4f3c-8cb7-5358a7c7914c",
   "metadata": {},
   "outputs": [],
   "source": [
    "# take a number as in put and calculate its factorial using while loop\n",
    "## eg: 4 factorial = 4*3*2*1 = 24"
   ]
  },
  {
   "cell_type": "code",
   "execution_count": 49,
   "id": "054f5e88-3650-42d2-8dc3-0e695824ed84",
   "metadata": {},
   "outputs": [
    {
     "name": "stdin",
     "output_type": "stream",
     "text": [
      "factorial value:  5\n"
     ]
    },
    {
     "name": "stdout",
     "output_type": "stream",
     "text": [
      "25\n",
      "16\n",
      "9\n",
      "4\n",
      "1\n"
     ]
    }
   ],
   "source": [
    "fact = int(input(\"factorial value: \"))\n",
    "while (fact>=1):\n",
    "    val = fact\n",
    "    facto = fact * val\n",
    "    print(facto)\n",
    "    fact = fact -1\n",
    "    "
   ]
  },
  {
   "cell_type": "code",
   "execution_count": 51,
   "id": "64201f63-54df-47f3-8628-6a68edbf7ed6",
   "metadata": {},
   "outputs": [
    {
     "name": "stdin",
     "output_type": "stream",
     "text": [
      "factorial value:  5\n"
     ]
    },
    {
     "name": "stdout",
     "output_type": "stream",
     "text": [
      "5\n",
      "12\n",
      "6\n",
      "2\n",
      "0\n"
     ]
    }
   ],
   "source": [
    "fact = int(input(\"factorial value: \"))\n",
    "val=1\n",
    "while (fact>=1):\n",
    "    facto = fact * val\n",
    "    print(facto)\n",
    "    fact = fact -1\n",
    "    val = fact-1\n",
    "    "
   ]
  },
  {
   "cell_type": "code",
   "execution_count": null,
   "id": "13920ff3-15bd-4158-9a84-12b304a07a0b",
   "metadata": {},
   "outputs": [],
   "source": [
    "'''\n",
    "fact = int(input(\"factorial value: \"))\n",
    "print (\"factorial\", fact)\n",
    "if (fact==0):\n",
    "    print (\"factorial of 0 is : 1\")\n",
    "else:\n",
    "    i=1\n",
    "    while(i<=fact):\n",
    "        fact = fact * i\n",
    "        i = fact\n",
    "        print(i)\n",
    "'''"
   ]
  },
  {
   "cell_type": "code",
   "execution_count": 70,
   "id": "1a27d15f-3102-4aea-97eb-d1ada5cf3b3b",
   "metadata": {},
   "outputs": [
    {
     "name": "stdin",
     "output_type": "stream",
     "text": [
      "Enter a number:  4\n"
     ]
    },
    {
     "name": "stdout",
     "output_type": "stream",
     "text": [
      "Factorial: 4\n",
      "Factorial: 12\n",
      "Factorial: 24\n",
      "Factorial: 24\n"
     ]
    }
   ],
   "source": [
    "facto = int(input(\"Enter a number: \"))\n",
    "result = 1\n",
    "\n",
    "while facto > 0:\n",
    "    result *= facto\n",
    "    facto -= 1\n",
    "    print(\"Factorial:\", result)\n",
    "\n"
   ]
  },
  {
   "cell_type": "code",
   "execution_count": 87,
   "id": "aec10f22-5552-4c76-8818-1ed87647687d",
   "metadata": {},
   "outputs": [
    {
     "name": "stdin",
     "output_type": "stream",
     "text": [
      "give value:  5\n"
     ]
    },
    {
     "name": "stdout",
     "output_type": "stream",
     "text": [
      "120\n"
     ]
    }
   ],
   "source": [
    "n = int(input(\"give value: \"))\n",
    "r = 1\n",
    "while (n>1):\n",
    "    r = n*r\n",
    "    n=n-1\n",
    "print(r)\n",
    "    \n",
    "    \n",
    "    \n",
    "    "
   ]
  },
  {
   "cell_type": "code",
   "execution_count": 86,
   "id": "cd38e34c-8440-4a9e-9551-f1fb253c9517",
   "metadata": {},
   "outputs": [
    {
     "name": "stdin",
     "output_type": "stream",
     "text": [
      "give value:  6\n"
     ]
    },
    {
     "name": "stdout",
     "output_type": "stream",
     "text": [
      "6\n",
      "30\n",
      "120\n",
      "360\n",
      "720\n"
     ]
    }
   ],
   "source": [
    "n = int(input(\"give value: \"))\n",
    "re =1\n",
    "while (n>1):\n",
    "    re=n*re\n",
    "    n=n-1\n",
    "    print(re)\n",
    "    "
   ]
  },
  {
   "cell_type": "code",
   "execution_count": 84,
   "id": "175da6c1-2389-48d7-b9c5-c00ba7d3f71d",
   "metadata": {},
   "outputs": [
    {
     "name": "stdin",
     "output_type": "stream",
     "text": [
      "give value:  4\n"
     ]
    },
    {
     "name": "stdout",
     "output_type": "stream",
     "text": [
      "72\n"
     ]
    }
   ],
   "source": [
    "n = int(input(\"give value: \"))\n",
    "x = n-1\n",
    "fe = re * x\n",
    "while (n>0):\n",
    "    re = n *x\n",
    "    n=n-1\n",
    "print(fe)\n"
   ]
  },
  {
   "cell_type": "code",
   "execution_count": 75,
   "id": "ffd40ea7-5e9e-4bea-901b-c078eb31be57",
   "metadata": {},
   "outputs": [
    {
     "name": "stdout",
     "output_type": "stream",
     "text": [
      "the fact is 5\n",
      "the fact is 20\n",
      "the fact is 60\n",
      "the fact is 120\n",
      "the fact is 120\n"
     ]
    }
   ],
   "source": [
    "n = 5\n",
    "if (n<0):\n",
    "    print (\"factorial does not exist for negative value\")\n",
    "elif (n ==0):\n",
    "    print  (\"the factorial of 0 is 1\")\n",
    "else:\n",
    "    fact = 1\n",
    "    while (n>0):\n",
    "        fact = fact * n\n",
    "        n=n-1\n",
    "        print(\"the fact is\", fact)"
   ]
  },
  {
   "cell_type": "code",
   "execution_count": 37,
   "id": "ff3cb979-0b18-4804-8806-57131d11897f",
   "metadata": {},
   "outputs": [
    {
     "name": "stdin",
     "output_type": "stream",
     "text": [
      "Enter a number:  5\n"
     ]
    },
    {
     "name": "stdout",
     "output_type": "stream",
     "text": [
      "The factorial of 5 is 120\n"
     ]
    }
   ],
   "source": [
    "# Get number input from the user\n",
    "num = int(input(\"Enter a number: \"))\n",
    "\n",
    "# Initialize factorial to 1 (since the factorial of 0 is 1)\n",
    "factorial = 1\n",
    "\n",
    "# Initialize counter to 1\n",
    "i = 1\n",
    "\n",
    "# Calculate factorial using while loop\n",
    "while i <= num:\n",
    "    factorial *= i\n",
    "    i += 1\n",
    "\n",
    "# Print the factorial\n",
    "print(\"The factorial of\", num, \"is\", factorial)"
   ]
  },
  {
   "cell_type": "code",
   "execution_count": null,
   "id": "89cab946-dfd7-42db-9489-1dd3b4df732c",
   "metadata": {},
   "outputs": [],
   "source": [
    "#dictonary"
   ]
  },
  {
   "cell_type": "code",
   "execution_count": 40,
   "id": "b611c5f2-b37d-456f-a07b-665f697956d3",
   "metadata": {},
   "outputs": [
    {
     "ename": "SyntaxError",
     "evalue": "invalid syntax (2599333022.py, line 1)",
     "output_type": "error",
     "traceback": [
      "\u001b[1;36m  Cell \u001b[1;32mIn[40], line 1\u001b[1;36m\u001b[0m\n\u001b[1;33m    employee {'easvar' : 5000}\u001b[0m\n\u001b[1;37m             ^\u001b[0m\n\u001b[1;31mSyntaxError\u001b[0m\u001b[1;31m:\u001b[0m invalid syntax\n"
     ]
    }
   ],
   "source": [
    "employee {'easvar' : 5000}"
   ]
  },
  {
   "cell_type": "code",
   "execution_count": 41,
   "id": "1cb94976-9c86-4d33-a1c9-edcfae7f5b97",
   "metadata": {},
   "outputs": [
    {
     "name": "stdin",
     "output_type": "stream",
     "text": [
      "enter the name:  easvar\n",
      "enter the salary 100000\n",
      "enter the name:  gayathri\n",
      "enter the salary 10000000\n",
      "enter the name:  vns\n",
      "enter the salary 145415411\n"
     ]
    },
    {
     "name": "stdout",
     "output_type": "stream",
     "text": [
      "employee data {'easvar': 100000, 'gayathri': 10000000, 'vns': 145415411}\n"
     ]
    }
   ],
   "source": [
    "# task : create a new dictionary from start by taking from the user\n",
    "# input will be name and salary. 5 employee names and its salary\n",
    "emp = {}\n",
    "for i in range(1,4):\n",
    "    name = input(\"enter the name: \")\n",
    "    sal = int(input(\"enter the salary\"))\n",
    "    emp[name] = sal\n",
    "print(\"employee data\",emp)\n",
    "    "
   ]
  },
  {
   "cell_type": "code",
   "execution_count": 42,
   "id": "5d8df1b5-8ee5-49d0-a03f-bc550f24cba2",
   "metadata": {},
   "outputs": [
    {
     "name": "stdin",
     "output_type": "stream",
     "text": [
      "enter the name you want deleted:  vns\n"
     ]
    }
   ],
   "source": [
    "# code to take input from user and delete the key value pair\n",
    "delname = input(\"enter the name you want deleted: \")\n",
    "del emp[delname]"
   ]
  },
  {
   "cell_type": "code",
   "execution_count": 43,
   "id": "ab23186b-3d36-4ddf-9260-489f03722750",
   "metadata": {},
   "outputs": [
    {
     "data": {
      "text/plain": [
       "{'easvar': 100000, 'gayathri': 10000000}"
      ]
     },
     "execution_count": 43,
     "metadata": {},
     "output_type": "execute_result"
    }
   ],
   "source": [
    "emp"
   ]
  },
  {
   "cell_type": "code",
   "execution_count": 46,
   "id": "26e73ac4-c7d9-44f1-acbe-5e7eccf5efaf",
   "metadata": {},
   "outputs": [
    {
     "data": {
      "text/plain": [
       "{'easvar': 2000000, 'gayathri': 10000000}"
      ]
     },
     "execution_count": 46,
     "metadata": {},
     "output_type": "execute_result"
    }
   ],
   "source": [
    "emp['easvar'] = 2000000\n",
    "emp"
   ]
  },
  {
   "cell_type": "markdown",
   "id": "9050328b-d45b-42da-9a08-be1cd0ef8d14",
   "metadata": {},
   "source": [
    "Files"
   ]
  },
  {
   "cell_type": "code",
   "execution_count": 47,
   "id": "a002f454-f28b-4f99-889d-1644dd2aff75",
   "metadata": {},
   "outputs": [
    {
     "name": "stdout",
     "output_type": "stream",
     "text": [
      "the fact is 5\n",
      "the fact is 20\n",
      "the fact is 60\n",
      "the fact is 120\n",
      "the fact is 120\n"
     ]
    }
   ],
   "source": [
    "n = 5\n",
    "if (n<0):\n",
    "    print (\"factorial does not exist for negative value\")\n",
    "elif (n ==0):\n",
    "    print  (\"the factorial of 0 is 1\")\n",
    "else:\n",
    "    fact = 1\n",
    "    while (n>0):\n",
    "        fact = fact * n\n",
    "        n=n-1\n",
    "        print(\"the fact is\", fact)"
   ]
  },
  {
   "cell_type": "code",
   "execution_count": 6,
   "id": "898cc188-1722-45f5-a70a-19336a957341",
   "metadata": {},
   "outputs": [
    {
     "name": "stdin",
     "output_type": "stream",
     "text": [
      "enter the number 5\n"
     ]
    },
    {
     "name": "stdout",
     "output_type": "stream",
     "text": [
      "The product of consecutive integers starting from 5 until one term becomes zero is: 120\n"
     ]
    }
   ],
   "source": [
    "def product_of_consecutive_integers(n):\n",
    "    product = 1\n",
    "    i = 0\n",
    "    while n - i > 0:\n",
    "        product *= (n - i)\n",
    "        i += 1\n",
    "    return product\n",
    "\n",
    "# Example usage:\n",
    "n = int (input(\"enter the number\"))\n",
    "result = product_of_consecutive_integers(n)\n",
    "print(f\"The product of consecutive integers starting from {n} until one term becomes zero is: {result}\")"
   ]
  }
 ],
 "metadata": {
  "kernelspec": {
   "display_name": "Python 3 (ipykernel)",
   "language": "python",
   "name": "python3"
  },
  "language_info": {
   "codemirror_mode": {
    "name": "ipython",
    "version": 3
   },
   "file_extension": ".py",
   "mimetype": "text/x-python",
   "name": "python",
   "nbconvert_exporter": "python",
   "pygments_lexer": "ipython3",
   "version": "3.11.7"
  }
 },
 "nbformat": 4,
 "nbformat_minor": 5
}
