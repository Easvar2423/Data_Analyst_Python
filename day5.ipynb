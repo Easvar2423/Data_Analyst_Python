{
 "cells": [
  {
   "cell_type": "code",
   "execution_count": 26,
   "id": "e1631ff7-8503-4992-a786-e42f982ddd3d",
   "metadata": {},
   "outputs": [],
   "source": [
    "# 4 basics of OOPs are:\n",
    "# 1. abstraction\n",
    "# 2. Encapsulation\n",
    "# 3. In-heritance\n",
    "# 4. polymorphism"
   ]
  },
  {
   "cell_type": "code",
   "execution_count": 7,
   "id": "89e85df9-5c55-4bc8-a383-ed59c40d1896",
   "metadata": {},
   "outputs": [],
   "source": [
    "class Dog():\n",
    "    name='scobby'\n",
    "    colour = 'brown'\n",
    "    height = '6ft'\n",
    "    weight = '45kg'\n",
    "    "
   ]
  },
  {
   "cell_type": "code",
   "execution_count": 8,
   "id": "628bb755-283b-4321-b9ae-ab2d794aa800",
   "metadata": {},
   "outputs": [],
   "source": [
    "dog1 = Dog()"
   ]
  },
  {
   "cell_type": "code",
   "execution_count": 9,
   "id": "65b4c11e-083f-42b4-98d7-c049c285dfb3",
   "metadata": {},
   "outputs": [
    {
     "name": "stdout",
     "output_type": "stream",
     "text": [
      "<__main__.Dog object at 0x000001200D161610>\n"
     ]
    }
   ],
   "source": [
    "print(dog1)"
   ]
  },
  {
   "cell_type": "code",
   "execution_count": 10,
   "id": "b6cd1341-87e1-4540-bc85-f46b05648b08",
   "metadata": {},
   "outputs": [
    {
     "name": "stdout",
     "output_type": "stream",
     "text": [
      "scobby\n"
     ]
    }
   ],
   "source": [
    "print (dog1.name)"
   ]
  },
  {
   "cell_type": "code",
   "execution_count": 11,
   "id": "aab03540-9751-42d3-860d-7bd9405ef619",
   "metadata": {},
   "outputs": [
    {
     "data": {
      "text/plain": [
       "'6ft'"
      ]
     },
     "execution_count": 11,
     "metadata": {},
     "output_type": "execute_result"
    }
   ],
   "source": [
    "dog1.height"
   ]
  },
  {
   "cell_type": "code",
   "execution_count": 12,
   "id": "53fe9c12-9fda-4af0-b6c4-3dbe198a02cc",
   "metadata": {},
   "outputs": [],
   "source": [
    "dog2 = Dog()"
   ]
  },
  {
   "cell_type": "code",
   "execution_count": 13,
   "id": "63dc7ec9-7f55-47f3-8fb9-07ad26ad951b",
   "metadata": {},
   "outputs": [
    {
     "data": {
      "text/plain": [
       "'scobby'"
      ]
     },
     "execution_count": 13,
     "metadata": {},
     "output_type": "execute_result"
    }
   ],
   "source": [
    "dog2.name"
   ]
  },
  {
   "cell_type": "code",
   "execution_count": 14,
   "id": "fa84e6da-df7e-47e1-a14d-faf7e9c48677",
   "metadata": {},
   "outputs": [
    {
     "data": {
      "text/plain": [
       "('scobby', 'scobby')"
      ]
     },
     "execution_count": 14,
     "metadata": {},
     "output_type": "execute_result"
    }
   ],
   "source": [
    "dog1.name,dog2.name"
   ]
  },
  {
   "cell_type": "code",
   "execution_count": 15,
   "id": "19ab682c-954b-4e81-b41f-b4be223d309b",
   "metadata": {},
   "outputs": [],
   "source": [
    "class Dog():\n",
    "\n",
    "    #constructor is method invoked automatically when an object is created\n",
    "    def __init__(self,name,colour,height,weight):\n",
    "        self.name = name\n",
    "        self.colour = colour\n",
    "        self.height = height\n",
    "        self.weight = weight\n"
   ]
  },
  {
   "cell_type": "code",
   "execution_count": 16,
   "id": "0a1a8866-49da-4d40-9180-07142aa32dec",
   "metadata": {},
   "outputs": [],
   "source": [
    "dog1 = Dog('scobby','brown','6ft','50')"
   ]
  },
  {
   "cell_type": "code",
   "execution_count": 18,
   "id": "19081f76-a1bd-45fc-a03e-84e4959a7f43",
   "metadata": {},
   "outputs": [
    {
     "data": {
      "text/plain": [
       "('scobby', 'brown', '6ft', '50')"
      ]
     },
     "execution_count": 18,
     "metadata": {},
     "output_type": "execute_result"
    }
   ],
   "source": [
    "dog1.name,dog1.colour,dog1.height,dog1.weight"
   ]
  },
  {
   "cell_type": "code",
   "execution_count": 19,
   "id": "71005c9f-ca2d-4cd1-9238-67ad67dd919a",
   "metadata": {},
   "outputs": [],
   "source": [
    "dog2 = Dog('johny','black','2ft','40')"
   ]
  },
  {
   "cell_type": "code",
   "execution_count": 20,
   "id": "ad0d83fe-a57d-4bd3-974d-9e325c423b50",
   "metadata": {},
   "outputs": [
    {
     "data": {
      "text/plain": [
       "('johny', 'black', '2ft', '40')"
      ]
     },
     "execution_count": 20,
     "metadata": {},
     "output_type": "execute_result"
    }
   ],
   "source": [
    "dog2.name,dog2.colour,dog2.height,dog2.weight"
   ]
  },
  {
   "cell_type": "code",
   "execution_count": 21,
   "id": "052b86ac-64e1-4d60-a7ae-af33cf286952",
   "metadata": {},
   "outputs": [],
   "source": [
    "class male():\n",
    "    def __init__(m,name,eyecolour,nation):\n",
    "        m.name= name\n",
    "        m.eyecolour = eyecolour\n",
    "        m.nation = nation"
   ]
  },
  {
   "cell_type": "code",
   "execution_count": 22,
   "id": "c2479d61-bd1c-468f-a8c5-9d6a24d5a0d7",
   "metadata": {},
   "outputs": [],
   "source": [
    "man1 = male('Easvar',\"black\",'Indian')"
   ]
  },
  {
   "cell_type": "code",
   "execution_count": 23,
   "id": "15401763-55f2-4bde-9ce2-7eed24023343",
   "metadata": {},
   "outputs": [
    {
     "data": {
      "text/plain": [
       "('Easvar', 'black', 'Indian')"
      ]
     },
     "execution_count": 23,
     "metadata": {},
     "output_type": "execute_result"
    }
   ],
   "source": [
    "man1.name,man1.eyecolour,man1.nation"
   ]
  },
  {
   "cell_type": "code",
   "execution_count": 25,
   "id": "7aa1991c-85f3-4acf-99a4-42a1d5eed6f2",
   "metadata": {},
   "outputs": [],
   "source": [
    "man2 = male('cibe',\"White\",'Indian')"
   ]
  },
  {
   "cell_type": "code",
   "execution_count": 34,
   "id": "5bcfae28-b1f8-4298-823c-5a52e0defe24",
   "metadata": {},
   "outputs": [],
   "source": [
    "class male():\n",
    "    def __init__(m,name,eyecolour,nation):\n",
    "        m.name= name\n",
    "        m.eyecolour = eyecolour\n",
    "        m.nation = nation\n",
    "        print('name is ',m.name,\"\\neye colour is \",m.eyecolour,\"\\nnation is\",m.nation)"
   ]
  },
  {
   "cell_type": "code",
   "execution_count": 35,
   "id": "9fc7a672-49ed-4a48-b3fc-f7cf85d81f55",
   "metadata": {},
   "outputs": [
    {
     "name": "stdout",
     "output_type": "stream",
     "text": [
      "name is  Easvar \n",
      "eye colour is  black \n",
      "nation is Indian\n"
     ]
    }
   ],
   "source": [
    "man1 = male('Easvar',\"black\",'Indian')"
   ]
  },
  {
   "cell_type": "code",
   "execution_count": 39,
   "id": "113f11d9-ec25-45e7-bef9-ca852b6a1db3",
   "metadata": {},
   "outputs": [],
   "source": [
    "class male():\n",
    "    def __init__(self,name,eyecolour,nation):\n",
    "        self.name= name\n",
    "        self.eyecolour = eyecolour\n",
    "        self.nation = nation\n",
    "        print('name is ',self.name,\"\\neye colour is \",self.eyecolour,\"\\nnation is\",self.nation)\n",
    "\n",
    "    def play(self,sport):\n",
    "        print(self.name+\" play \"+sport)"
   ]
  },
  {
   "cell_type": "code",
   "execution_count": 40,
   "id": "5288ea42-0bff-4181-a02b-a06031a87c70",
   "metadata": {},
   "outputs": [
    {
     "name": "stdout",
     "output_type": "stream",
     "text": [
      "name is  Easvar \n",
      "eye colour is  black \n",
      "nation is Indian\n"
     ]
    }
   ],
   "source": [
    "man1 = male('Easvar',\"black\",'Indian')"
   ]
  },
  {
   "cell_type": "code",
   "execution_count": 41,
   "id": "37a8a5ab-394e-45d7-a6e5-3ac13ce2c7c5",
   "metadata": {},
   "outputs": [
    {
     "name": "stdout",
     "output_type": "stream",
     "text": [
      "Easvar play chess\n"
     ]
    }
   ],
   "source": [
    "man1.play(\"chess\")"
   ]
  },
  {
   "cell_type": "code",
   "execution_count": 42,
   "id": "827adf97-d370-4ba2-9bcc-12f79f1982b0",
   "metadata": {},
   "outputs": [],
   "source": [
    "class male():\n",
    "    def __init__(self,name,eyecolour,nation):\n",
    "        self.name= name\n",
    "        self.eyecolour = eyecolour\n",
    "        self.nation = nation\n",
    "        print('name is ',self.name,\"\\neye colour is \",self.eyecolour,\"\\nnation is\",self.nation)\n",
    "    \n",
    "    def print_name(self):\n",
    "        print(self)\n",
    "\n",
    "    def play(self,sport):\n",
    "        print(self.name+\" play \"+sport)"
   ]
  },
  {
   "cell_type": "code",
   "execution_count": 43,
   "id": "a895f518-168a-4227-9d2c-4f0672d133c0",
   "metadata": {},
   "outputs": [
    {
     "name": "stdout",
     "output_type": "stream",
     "text": [
      "name is  Easvar \n",
      "eye colour is  black \n",
      "nation is Indian\n"
     ]
    }
   ],
   "source": [
    "man1 = male('Easvar',\"black\",'Indian')"
   ]
  },
  {
   "cell_type": "code",
   "execution_count": 44,
   "id": "283eb3be-f878-4b1d-9b28-593e5a1ab74b",
   "metadata": {},
   "outputs": [
    {
     "name": "stdout",
     "output_type": "stream",
     "text": [
      "Easvar play chess\n"
     ]
    }
   ],
   "source": [
    "man1.play(\"chess\")"
   ]
  },
  {
   "cell_type": "code",
   "execution_count": 45,
   "id": "0c048cec-b27c-4b9d-98a5-886d85d1bf14",
   "metadata": {},
   "outputs": [
    {
     "name": "stdout",
     "output_type": "stream",
     "text": [
      "<__main__.male object at 0x000001200D9768D0>\n"
     ]
    }
   ],
   "source": [
    "man1.print_name()"
   ]
  },
  {
   "cell_type": "code",
   "execution_count": 100,
   "id": "5d7e3bb7-0d42-4d65-931c-74746267b30d",
   "metadata": {},
   "outputs": [],
   "source": [
    "class male():\n",
    "    def __init__(m,name,eyecolour,nation):\n",
    "        m.name= name\n",
    "        m.eyecolour = eyecolour\n",
    "        m.nation = nation\n",
    "        print('name is ',m.name,\"\\neye colour is \",m.eyecolour,\"\\nnation is\",m.nation,m)\n",
    "    \n",
    "    def print_name(m):\n",
    "        print(m)\n",
    "\n",
    "    def play(self,sport):\n",
    "        print(self.name+\" play \"+sport,self)"
   ]
  },
  {
   "cell_type": "code",
   "execution_count": 101,
   "id": "310236ec-b798-49e2-ae2f-473468accba9",
   "metadata": {},
   "outputs": [
    {
     "name": "stdout",
     "output_type": "stream",
     "text": [
      "name is  Easvar \n",
      "eye colour is  black \n",
      "nation is Indian <__main__.male object at 0x000001200DA4EFD0>\n"
     ]
    }
   ],
   "source": [
    "man1 = male('Easvar',\"black\",'Indian')"
   ]
  },
  {
   "cell_type": "code",
   "execution_count": 102,
   "id": "140f9258-bf49-4fe1-9362-29c0b115d143",
   "metadata": {},
   "outputs": [
    {
     "name": "stdout",
     "output_type": "stream",
     "text": [
      "Easvar play chess <__main__.male object at 0x000001200DA4EFD0>\n"
     ]
    }
   ],
   "source": [
    "man1.play(\"chess\")"
   ]
  },
  {
   "cell_type": "code",
   "execution_count": 103,
   "id": "e0fafc07-9eca-48dc-a55d-b1bc0e07ce6d",
   "metadata": {},
   "outputs": [
    {
     "name": "stdout",
     "output_type": "stream",
     "text": [
      "<__main__.male object at 0x000001200DA4EFD0>\n"
     ]
    }
   ],
   "source": [
    "man1.print_name()"
   ]
  },
  {
   "cell_type": "code",
   "execution_count": 104,
   "id": "012443d5-c88a-4673-b747-e46db610bb56",
   "metadata": {},
   "outputs": [
    {
     "name": "stdout",
     "output_type": "stream",
     "text": [
      "name is  cibe \n",
      "eye colour is  White \n",
      "nation is Indian <__main__.male object at 0x000001200D991B10>\n"
     ]
    }
   ],
   "source": [
    "man2 = male('cibe',\"White\",'Indian')"
   ]
  },
  {
   "cell_type": "code",
   "execution_count": 105,
   "id": "55683051-795f-4074-8c70-8e529f45cbfd",
   "metadata": {},
   "outputs": [
    {
     "name": "stdout",
     "output_type": "stream",
     "text": [
      "cibe play carom <__main__.male object at 0x000001200D991B10>\n"
     ]
    }
   ],
   "source": [
    "man2.play(\"carom\")"
   ]
  },
  {
   "cell_type": "code",
   "execution_count": 106,
   "id": "292b8f46-12d2-4739-b392-c3b6596074c1",
   "metadata": {},
   "outputs": [
    {
     "name": "stdout",
     "output_type": "stream",
     "text": [
      "<__main__.male object at 0x000001200D991B10>\n"
     ]
    }
   ],
   "source": [
    "man2.print_name()"
   ]
  },
  {
   "cell_type": "code",
   "execution_count": null,
   "id": "d353ab3a-0a14-4fe2-aa85-129987a4f464",
   "metadata": {},
   "outputs": [],
   "source": [
    "## ACCESS MODIFIER\n",
    "## PROTECTED, PRIVATE, PUBLIC"
   ]
  },
  {
   "cell_type": "code",
   "execution_count": 9,
   "id": "096b195b-8be5-4ccc-beee-8a2ca5726834",
   "metadata": {},
   "outputs": [],
   "source": [
    "class male():\n",
    "    def __init__(self,name,eyecolour,nation):\n",
    "        self.__name= name\n",
    "        self.eyecolour = eyecolour\n",
    "        self.nation = nation\n",
    "        print('name is ',self.__name,\"\\neye colour is \",self.eyecolour,\"\\nnation is\",self.nation)\n",
    "    \n",
    "    def print_name(self):\n",
    "        print(self)\n",
    "\n",
    "    def play(self,sport):\n",
    "        print(self.name+\" play \"+sport)"
   ]
  },
  {
   "cell_type": "code",
   "execution_count": 10,
   "id": "9d38fa5c-f737-4334-ab95-5b8ebb1dab7c",
   "metadata": {},
   "outputs": [
    {
     "name": "stdout",
     "output_type": "stream",
     "text": [
      "name is  virat \n",
      "eye colour is  black \n",
      "nation is indian\n"
     ]
    }
   ],
   "source": [
    "virat = male('virat', 'black', 'indian')"
   ]
  },
  {
   "cell_type": "code",
   "execution_count": 38,
   "id": "28ba1c55-c972-4e6f-a141-8c0aea4f0dbe",
   "metadata": {},
   "outputs": [],
   "source": [
    "class dog():\n",
    "    def __init__(self,name,color,height,weight):\n",
    "        self.name = name\n",
    "        self.color = color\n",
    "        self.height = height\n",
    "        self.weight = weight\n",
    "        print(\"my dog name is\"+\" \" +self.name+\"\\nmy dog color is \"+self.color+\"\\nmy dog height is \"+self.height+\"\\nmy dog weight is \"+self.weight)"
   ]
  },
  {
   "cell_type": "code",
   "execution_count": 39,
   "id": "cc09613c-fc40-475c-a303-58aa706454ad",
   "metadata": {},
   "outputs": [
    {
     "name": "stdout",
     "output_type": "stream",
     "text": [
      "my dog name is scooby\n",
      "my dog color is Brown\n",
      "my dog height is 3ft\n",
      "my dog weight is 50\n"
     ]
    }
   ],
   "source": [
    "dog1 = dog(\"scooby\",\"Brown\",\"3ft\",\"50\")"
   ]
  },
  {
   "cell_type": "code",
   "execution_count": 40,
   "id": "6a8250ec-1dfc-4882-bbff-32e3afd17a32",
   "metadata": {},
   "outputs": [
    {
     "name": "stdout",
     "output_type": "stream",
     "text": [
      "my dog name is snowie\n",
      "my dog color is white\n",
      "my dog height is 3ft\n",
      "my dog weight is 45\n"
     ]
    }
   ],
   "source": [
    "dog2 = dog(\"snowie\",\"white\",\"3ft\",\"45\")"
   ]
  },
  {
   "cell_type": "code",
   "execution_count": 44,
   "id": "ee833090-8e10-4720-9f48-6eaa13cb24be",
   "metadata": {},
   "outputs": [
    {
     "data": {
      "text/plain": [
       "('Brown', 'white')"
      ]
     },
     "execution_count": 44,
     "metadata": {},
     "output_type": "execute_result"
    }
   ],
   "source": [
    "dog1.color,dog2.color"
   ]
  },
  {
   "cell_type": "code",
   "execution_count": null,
   "id": "5997c7ba-5d80-4fec-a803-cbf5e92419df",
   "metadata": {},
   "outputs": [],
   "source": [
    "## Access modifier public, private and protected "
   ]
  },
  {
   "cell_type": "code",
   "execution_count": 130,
   "id": "6d45b785-5528-4dd8-868f-c87182c61a08",
   "metadata": {},
   "outputs": [],
   "source": [
    "class male():\n",
    "    def __init__(self,name,color,nation,height,weight):\n",
    "        self.__name = name\n",
    "        self.color = color\n",
    "        self.nation = nation\n",
    "        self.height = height\n",
    "        self.weight = weight\n",
    "    def print_name (self):\n",
    "        print (self.__name)\n",
    "    def play (self,sport):\n",
    "        self.sport = sport\n",
    "        print(self.__name+\" play \"+self.sport)"
   ]
  },
  {
   "cell_type": "code",
   "execution_count": 131,
   "id": "2f97257e-4d95-42c4-89b0-0e89ea72bfd9",
   "metadata": {},
   "outputs": [],
   "source": [
    "man1 = male(\"virat\",\"black\",\"Indian\",\"6\",\"65\")"
   ]
  },
  {
   "cell_type": "code",
   "execution_count": 132,
   "id": "fff21d08-6a41-4189-b5ca-3dcd766e3c56",
   "metadata": {},
   "outputs": [
    {
     "data": {
      "text/plain": [
       "<__main__.male at 0x237dc0ce110>"
      ]
     },
     "execution_count": 132,
     "metadata": {},
     "output_type": "execute_result"
    }
   ],
   "source": [
    "man1"
   ]
  },
  {
   "cell_type": "code",
   "execution_count": 133,
   "id": "2a90a95b-65de-463d-b42f-bddeec992165",
   "metadata": {},
   "outputs": [
    {
     "name": "stdout",
     "output_type": "stream",
     "text": [
      "virat\n"
     ]
    }
   ],
   "source": [
    "man1.print_name()"
   ]
  },
  {
   "cell_type": "code",
   "execution_count": 134,
   "id": "2066bf1c-072c-49ba-b02b-f87838c5ada6",
   "metadata": {},
   "outputs": [
    {
     "name": "stdout",
     "output_type": "stream",
     "text": [
      "virat play cricket\n"
     ]
    }
   ],
   "source": [
    "man1.play('cricket')"
   ]
  },
  {
   "cell_type": "code",
   "execution_count": 135,
   "id": "4aee4c73-88f1-4ad5-92a4-19c8a6b88d96",
   "metadata": {},
   "outputs": [
    {
     "data": {
      "text/plain": [
       "<bound method male.play of <__main__.male object at 0x00000237DC0CE110>>"
      ]
     },
     "execution_count": 135,
     "metadata": {},
     "output_type": "execute_result"
    }
   ],
   "source": [
    "man1.play"
   ]
  },
  {
   "cell_type": "code",
   "execution_count": 136,
   "id": "6da74aff-49f1-44cb-b876-1539d1dfc51f",
   "metadata": {},
   "outputs": [
    {
     "data": {
      "text/plain": [
       "'black'"
      ]
     },
     "execution_count": 136,
     "metadata": {},
     "output_type": "execute_result"
    }
   ],
   "source": [
    "man1.color"
   ]
  },
  {
   "cell_type": "code",
   "execution_count": 137,
   "id": "05261fb4-153f-4fe3-b12e-5615ea422b0c",
   "metadata": {},
   "outputs": [
    {
     "data": {
      "text/plain": [
       "'cricket'"
      ]
     },
     "execution_count": 137,
     "metadata": {},
     "output_type": "execute_result"
    }
   ],
   "source": [
    "man1.sport"
   ]
  },
  {
   "cell_type": "code",
   "execution_count": 1,
   "id": "f812e18c-950a-4e7a-83f1-774aff4b4b87",
   "metadata": {},
   "outputs": [],
   "source": [
    "class male():\n",
    "    def __init__(self,name,eyecolor,nation):\n",
    "        self.name = name\n",
    "        self.eyecolor = eyecolor\n",
    "        self.nation = nation\n",
    "    def print_name(self):\n",
    "        print(self.name)\n",
    "    def play(self,sport):\n",
    "        print(self.name+\" plays \"+sport)"
   ]
  },
  {
   "cell_type": "code",
   "execution_count": 3,
   "id": "7fa68c8d-2e0a-4a96-977f-2c15bc0d68a2",
   "metadata": {},
   "outputs": [],
   "source": [
    "man1 = male(\"Dhoni\",\"grey\",\"Indian\")"
   ]
  },
  {
   "cell_type": "code",
   "execution_count": 4,
   "id": "7cf7e074-ce50-43a1-aeb6-51984cd55b34",
   "metadata": {},
   "outputs": [
    {
     "data": {
      "text/plain": [
       "'Dhoni'"
      ]
     },
     "execution_count": 4,
     "metadata": {},
     "output_type": "execute_result"
    }
   ],
   "source": [
    "man1.name"
   ]
  },
  {
   "cell_type": "code",
   "execution_count": null,
   "id": "5b53aab8-5df7-4b6b-afc0-54bdddf197e9",
   "metadata": {},
   "outputs": [],
   "source": [
    "## Access modifier public, private and protected "
   ]
  },
  {
   "cell_type": "code",
   "execution_count": 5,
   "id": "e05286a2-b529-4beb-a8c5-94e0b860c4d1",
   "metadata": {},
   "outputs": [],
   "source": [
    "class male():\n",
    "    def __init__(self,name,eyecolor,nation):\n",
    "        self.name = name\n",
    "        self.eyecolor = eyecolor\n",
    "        self.nation = nation\n",
    "    def print_name(self):\n",
    "        print(self.name)\n",
    "    def play(self,sport):\n",
    "        print(self.name+\" plays \"+sport)"
   ]
  },
  {
   "cell_type": "code",
   "execution_count": 6,
   "id": "701f2ea1-ebf9-48fd-a671-a91c136e6eca",
   "metadata": {},
   "outputs": [],
   "source": [
    "man1 = male(\"Dhoni\",\"grey\",\"Indian\")"
   ]
  },
  {
   "cell_type": "code",
   "execution_count": 7,
   "id": "0a37dca3-bb09-48d6-a6ad-330e715bf00c",
   "metadata": {},
   "outputs": [
    {
     "data": {
      "text/plain": [
       "'Dhoni'"
      ]
     },
     "execution_count": 7,
     "metadata": {},
     "output_type": "execute_result"
    }
   ],
   "source": [
    "man1.name"
   ]
  },
  {
   "cell_type": "code",
   "execution_count": 8,
   "id": "fd36663b-fb75-4a36-a141-4b1473e9b485",
   "metadata": {},
   "outputs": [],
   "source": [
    "class male():\n",
    "    def __init__(self,name,eyecolor,nation):\n",
    "        self.__name = name #added doule underscore\n",
    "        self.eyecolor = eyecolor\n",
    "        self.nation = nation\n",
    "    def print_name(self):\n",
    "        print(self.name)\n",
    "    def play(self,sport):\n",
    "        print(self.name+\" plays \"+sport)"
   ]
  },
  {
   "cell_type": "code",
   "execution_count": 9,
   "id": "404b8c45-d918-43d0-b93f-42018a661940",
   "metadata": {},
   "outputs": [],
   "source": [
    "man1 = male(\"Dhoni\",\"grey\",\"Indian\")"
   ]
  },
  {
   "cell_type": "code",
   "execution_count": 10,
   "id": "df4c1adb-a01d-477a-8c89-cd1d576d85f1",
   "metadata": {},
   "outputs": [
    {
     "ename": "AttributeError",
     "evalue": "'male' object has no attribute 'name'",
     "output_type": "error",
     "traceback": [
      "\u001b[1;31m---------------------------------------------------------------------------\u001b[0m",
      "\u001b[1;31mAttributeError\u001b[0m                            Traceback (most recent call last)",
      "Cell \u001b[1;32mIn[10], line 1\u001b[0m\n\u001b[1;32m----> 1\u001b[0m man1\u001b[38;5;241m.\u001b[39mname\n",
      "\u001b[1;31mAttributeError\u001b[0m: 'male' object has no attribute 'name'"
     ]
    }
   ],
   "source": [
    "man1.name"
   ]
  },
  {
   "cell_type": "code",
   "execution_count": 11,
   "id": "54ee0b72-2cfa-481b-bbd5-339e0c34a03f",
   "metadata": {},
   "outputs": [
    {
     "data": {
      "text/plain": [
       "<bound method male.print_name of <__main__.male object at 0x000002505EA56250>>"
      ]
     },
     "execution_count": 11,
     "metadata": {},
     "output_type": "execute_result"
    }
   ],
   "source": [
    "man1.print_name"
   ]
  },
  {
   "cell_type": "code",
   "execution_count": 16,
   "id": "19768e16-73a0-4740-a741-eeae5c2b3743",
   "metadata": {},
   "outputs": [],
   "source": [
    "class male():\n",
    "    def __init__(self,name,eyecolor,nation):\n",
    "        self.__name = name #added doule underscore\n",
    "        self.eyecolor = eyecolor\n",
    "        self.nation = nation\n",
    "    def print_name(self):\n",
    "        print(self.__name) # doble underscore added\n",
    "    def play(self,sport):\n",
    "        print(self.name+\" plays \"+sport)"
   ]
  },
  {
   "cell_type": "code",
   "execution_count": 18,
   "id": "2acd6ac1-df15-4291-8c1e-64b68f6cb2ff",
   "metadata": {},
   "outputs": [],
   "source": [
    "man1 = male(\"Dhoni\",\"grey\",\"Indian\")"
   ]
  },
  {
   "cell_type": "code",
   "execution_count": 19,
   "id": "16b54095-70f6-495d-a5e4-2dd884b99812",
   "metadata": {},
   "outputs": [
    {
     "name": "stdout",
     "output_type": "stream",
     "text": [
      "Dhoni\n"
     ]
    }
   ],
   "source": [
    "man1.print_name()"
   ]
  },
  {
   "cell_type": "code",
   "execution_count": 30,
   "id": "0ee2e269-8e8a-4380-b469-cdf24845b4bb",
   "metadata": {},
   "outputs": [
    {
     "data": {
      "text/plain": [
       "'Indian'"
      ]
     },
     "execution_count": 30,
     "metadata": {},
     "output_type": "execute_result"
    }
   ],
   "source": [
    "man1.nation"
   ]
  },
  {
   "cell_type": "code",
   "execution_count": 24,
   "id": "0101ba93-05c6-4b3a-84dd-926d5273da0c",
   "metadata": {},
   "outputs": [
    {
     "data": {
      "text/plain": [
       "'Dhoni'"
      ]
     },
     "execution_count": 24,
     "metadata": {},
     "output_type": "execute_result"
    }
   ],
   "source": [
    "man1._male__name ## since private we will access it so only they use oops concept in java\n",
    "# name should not be accessed outside the class"
   ]
  },
  {
   "cell_type": "code",
   "execution_count": null,
   "id": "8d1fbe39-8c6f-4b89-b54d-0c9f29c07654",
   "metadata": {},
   "outputs": [],
   "source": [
    "# 4 different types of inheritance\n",
    "#1. single inheritance\n",
    "#2. Multi level inheritance\n",
    "#3. multiple\n",
    "#4.herarical inheritance"
   ]
  },
  {
   "cell_type": "code",
   "execution_count": 37,
   "id": "e8cf02b2-f963-4bab-b43c-e78ff159df58",
   "metadata": {},
   "outputs": [],
   "source": [
    "# this is one seperate classs\n",
    "class parent():\n",
    "    a = 500\n",
    "    #parent has a method\n",
    "    def parmet (self):\n",
    "        print('parent method called !')"
   ]
  },
  {
   "cell_type": "code",
   "execution_count": 38,
   "id": "190843c5-4dc1-41a3-ab76-cbaca0af57f6",
   "metadata": {},
   "outputs": [],
   "source": [
    "# this is one seperate class\n",
    "# to call the parent class added parent class in bracket so it link with parent class\n",
    "class child(parent):\n",
    "    b=80\n",
    "    #child has a method\n",
    "    def childmet (self):\n",
    "        print ('child method called!')"
   ]
  },
  {
   "cell_type": "code",
   "execution_count": 39,
   "id": "d05f433f-3c03-495c-8846-8f96c5a0cb8c",
   "metadata": {},
   "outputs": [],
   "source": [
    "childobj = child()"
   ]
  },
  {
   "cell_type": "code",
   "execution_count": 41,
   "id": "ceb40a9a-ef9c-47ae-9ca2-0ffc6cfca87a",
   "metadata": {},
   "outputs": [
    {
     "name": "stdout",
     "output_type": "stream",
     "text": [
      "parent method called !\n"
     ]
    }
   ],
   "source": [
    "childobj.parmet()"
   ]
  },
  {
   "cell_type": "code",
   "execution_count": 42,
   "id": "b58ae45e-0a29-4be4-a920-45221d39934b",
   "metadata": {},
   "outputs": [
    {
     "data": {
      "text/plain": [
       "500"
      ]
     },
     "execution_count": 42,
     "metadata": {},
     "output_type": "execute_result"
    }
   ],
   "source": [
    "childobj.a"
   ]
  },
  {
   "cell_type": "code",
   "execution_count": 43,
   "id": "1e4356a8-faf2-4a9c-abd2-c1fe08d91141",
   "metadata": {},
   "outputs": [],
   "source": [
    "class parent():\n",
    "    a = 500\n",
    "    #parent has a method. and it is private\n",
    "    def __parmet (self):\n",
    "        print('parent method called !')"
   ]
  },
  {
   "cell_type": "code",
   "execution_count": 44,
   "id": "7d703099-5556-4800-b30d-8b932f320a01",
   "metadata": {},
   "outputs": [],
   "source": [
    "# this is one seperate class\n",
    "# to call the parent class added parent class in bracket so it link with parent class\n",
    "class child(parent):\n",
    "    b=80\n",
    "    #child has a method\n",
    "    def childmet (self):\n",
    "        print ('child method called!')"
   ]
  },
  {
   "cell_type": "code",
   "execution_count": 45,
   "id": "1e8fd7da-4eea-4572-a11a-b17fc4eb3873",
   "metadata": {},
   "outputs": [],
   "source": [
    "childobj = child()"
   ]
  },
  {
   "cell_type": "code",
   "execution_count": 46,
   "id": "65e36ea8-52cd-46e7-9e6a-d5df919af9a0",
   "metadata": {},
   "outputs": [
    {
     "data": {
      "text/plain": [
       "500"
      ]
     },
     "execution_count": 46,
     "metadata": {},
     "output_type": "execute_result"
    }
   ],
   "source": [
    "childobj.a"
   ]
  },
  {
   "cell_type": "code",
   "execution_count": 47,
   "id": "c2581746-96d5-4da7-bf3a-f83135136f17",
   "metadata": {},
   "outputs": [
    {
     "ename": "AttributeError",
     "evalue": "'child' object has no attribute '__parmet'",
     "output_type": "error",
     "traceback": [
      "\u001b[1;31m---------------------------------------------------------------------------\u001b[0m",
      "\u001b[1;31mAttributeError\u001b[0m                            Traceback (most recent call last)",
      "Cell \u001b[1;32mIn[47], line 1\u001b[0m\n\u001b[1;32m----> 1\u001b[0m childobj\u001b[38;5;241m.\u001b[39m__parmet()\n",
      "\u001b[1;31mAttributeError\u001b[0m: 'child' object has no attribute '__parmet'"
     ]
    }
   ],
   "source": [
    "childobj.__parmet()"
   ]
  },
  {
   "cell_type": "code",
   "execution_count": 48,
   "id": "896c26d8-3fbc-4645-a063-2620d90d061f",
   "metadata": {},
   "outputs": [],
   "source": [
    "class parent():\n",
    "    a = 500\n",
    "    #parent has a method. and it is protected\n",
    "    def _parmet (self):\n",
    "        print('parent method called !')"
   ]
  },
  {
   "cell_type": "code",
   "execution_count": 49,
   "id": "0d084417-66e9-4639-a0db-8c11ccf351b7",
   "metadata": {},
   "outputs": [],
   "source": [
    "# this is one seperate class\n",
    "# to call the parent class added parent class in bracket so it link with parent class\n",
    "class child(parent):\n",
    "    b=80\n",
    "    #child has a method\n",
    "    def childmet (self):\n",
    "        print ('child method called!')"
   ]
  },
  {
   "cell_type": "code",
   "execution_count": 50,
   "id": "7a1ad277-b6a6-4b1c-aff3-736e38419303",
   "metadata": {},
   "outputs": [],
   "source": [
    "childobj = child()"
   ]
  },
  {
   "cell_type": "code",
   "execution_count": 51,
   "id": "59faf5fe-ce63-4f9c-9663-3aeb5b7404a5",
   "metadata": {},
   "outputs": [
    {
     "data": {
      "text/plain": [
       "500"
      ]
     },
     "execution_count": 51,
     "metadata": {},
     "output_type": "execute_result"
    }
   ],
   "source": [
    "childobj.a"
   ]
  },
  {
   "cell_type": "code",
   "execution_count": 52,
   "id": "86a1b69f-a59d-4971-b8cd-13ca4bf87a16",
   "metadata": {},
   "outputs": [
    {
     "name": "stdout",
     "output_type": "stream",
     "text": [
      "parent method called !\n"
     ]
    }
   ],
   "source": [
    "childobj._parmet()"
   ]
  },
  {
   "cell_type": "code",
   "execution_count": null,
   "id": "7a442e49-2bf2-4ad7-9631-66fedf164ca8",
   "metadata": {},
   "outputs": [],
   "source": [
    "# multi level inheritance"
   ]
  },
  {
   "cell_type": "code",
   "execution_count": 95,
   "id": "bfe81e42-beb8-455b-b99a-bf5cbd9749dd",
   "metadata": {},
   "outputs": [],
   "source": [
    "# this is one seperate class\n",
    "class Grandpa():\n",
    "    X = 500\n",
    "    #parent has a method. and it is protected\n",
    "    def grandpamet (self):\n",
    "        print('grapa method called !')\n",
    "##############################################################\n",
    "# this is one seperate class\n",
    "class parent(Grandpa):\n",
    "    a = 500\n",
    "    #parent has a method. and it is protected\n",
    "    def parmet (self):\n",
    "        print('parent method called !')\n",
    "##################################################################\n",
    "# this is one seperate class\n",
    "# to call the parent class added parent class in bracket so it link with parent class\n",
    "class child(parent):\n",
    "    b=80\n",
    "    #child has a method\n",
    "    def childmet (self):\n",
    "        print ('child method called!')"
   ]
  },
  {
   "cell_type": "code",
   "execution_count": 96,
   "id": "eb9ee600-f624-4683-87c8-47226aa97b30",
   "metadata": {},
   "outputs": [],
   "source": [
    "childobj = child()"
   ]
  },
  {
   "cell_type": "code",
   "execution_count": 97,
   "id": "e80acd71-bb95-4279-a37d-7484056353bf",
   "metadata": {},
   "outputs": [
    {
     "name": "stdout",
     "output_type": "stream",
     "text": [
      "parent method called !\n"
     ]
    }
   ],
   "source": [
    "childobj.parmet()"
   ]
  },
  {
   "cell_type": "code",
   "execution_count": 98,
   "id": "5a5a3073-8348-4a40-865e-1adea336ced3",
   "metadata": {},
   "outputs": [],
   "source": [
    "parentobj = parent()"
   ]
  },
  {
   "cell_type": "code",
   "execution_count": 99,
   "id": "93f42469-f036-420f-ad9a-b0910740d91e",
   "metadata": {},
   "outputs": [
    {
     "name": "stdout",
     "output_type": "stream",
     "text": [
      "parent method called !\n"
     ]
    }
   ],
   "source": [
    "parentobj.parmet()"
   ]
  },
  {
   "cell_type": "code",
   "execution_count": 100,
   "id": "99ecd37f-72bd-4268-92eb-19f9c9bb6e6b",
   "metadata": {},
   "outputs": [
    {
     "data": {
      "text/plain": [
       "500"
      ]
     },
     "execution_count": 100,
     "metadata": {},
     "output_type": "execute_result"
    }
   ],
   "source": [
    "parentobj.X"
   ]
  },
  {
   "cell_type": "code",
   "execution_count": null,
   "id": "11b54a03-b462-4288-b56b-3ee8a21cbb0c",
   "metadata": {},
   "outputs": [],
   "source": [
    "# Multiple inheritance"
   ]
  },
  {
   "cell_type": "code",
   "execution_count": null,
   "id": "e9845486-29b9-43a9-9935-3ae2e8bc96ed",
   "metadata": {},
   "outputs": [],
   "source": [
    "# this is one seperate class\n",
    "class Grandpa():\n",
    "    X = 500\n",
    "    #parent has a method. and it is protected\n",
    "    def grandpamet (self):\n",
    "        print('grapa method called !')\n",
    "##############################################################\n",
    "# this is one seperate class\n",
    "class parent(Grandpa):\n",
    "    a = 500\n",
    "    #parent has a method. and it is protected\n",
    "    def parmet (self):\n",
    "        print('parent method called !')\n",
    "##################################################################\n",
    "# this is one seperate class\n",
    "# to call the parent class added parent class in bracket so it link with parent class\n",
    "class child(parent):\n",
    "    b=80\n",
    "    #child has a method\n",
    "    def childmet (self):\n",
    "        print ('child method called!')"
   ]
  },
  {
   "attachments": {
    "67a09115-dc98-4da1-bfcb-b33a81a0734c.png": {
     "image/png": "[encoded data removed]"
    }
   },
   "cell_type": "markdown",
   "id": "1df10791-8294-4b27-98c3-a0fa625c26f2",
   "metadata": {},
   "source": [
    "![image.png](attachment:67a09115-dc98-4da1-bfcb-b33a81a0734c.png)\n"
   ]
  },
  {
   "cell_type": "code",
   "execution_count": null,
   "id": "39aa8322-2a21-423b-b150-3cbbb952ac5e",
   "metadata": {},
   "outputs": [],
   "source": [
    "#multiple inheritance"
   ]
  },
  {
   "attachments": {
    "0c498b63-0d92-411b-9138-5f66630977da.png": {
     "image/png": "[encoded data removed]"
    }
   },
   "cell_type": "markdown",
   "id": "30b40590-9c25-4f66-a268-06bde7310029",
   "metadata": {},
   "source": [
    "![image.png](attachment:0c498b63-0d92-411b-9138-5f66630977da.png)"
   ]
  },
  {
   "cell_type": "code",
   "execution_count": 129,
   "id": "b279fc64-116a-4ee9-92d6-7d24fa7bb77b",
   "metadata": {},
   "outputs": [],
   "source": [
    "class book():\n",
    "    def __init__(self,author,edition,ISBN):\n",
    "        self.author = author\n",
    "        self.edition = edition\n",
    "        self.ISBN = ISBN\n",
    "####################################################################\n",
    "class voice_recording():\n",
    "    def __init__(self,speaker,duration):\n",
    "        self.speaker = speaker\n",
    "        self.duration = duration\n",
    "####################################################################\n",
    "class talking_book(book, voice_recording):\n",
    "    def __init__(self, author, edition, ISBN, speaker, duration):\n",
    "        # Call the __init__ methods of both parent classes\n",
    "        book.__init__(self, author, edition, ISBN)\n",
    "        voice_recording.__init__(self, speaker, duration)\n",
    "        self.no_of_tapes = 10"
   ]
  },
  {
   "cell_type": "code",
   "execution_count": 130,
   "id": "3e0e3787-5bf7-449d-a42f-0727f4675feb",
   "metadata": {},
   "outputs": [],
   "source": [
    "bk1 = book(\"maths\",\"1\",\"11111\")\n",
    "bk2 = book(\"phy\",\"2\",\"22\")\n",
    "bk3 = book(\"eng\",\"5\",\"333\")\n",
    "bk4 = book(\"bio\",\"7\",\"77\")\n",
    "bk5 = book(\"comp\",\"3\",\"3434\")\n",
    "bk6 = book(\"zoo\",\"1\",\"1212\")\n",
    "bk7 = book(\"his\",\"9\",\"1234\")"
   ]
  },
  {
   "cell_type": "code",
   "execution_count": 131,
   "id": "2d4ee0a6-8927-4308-9dfb-e39763b44ef7",
   "metadata": {},
   "outputs": [
    {
     "data": {
      "text/plain": [
       "'22'"
      ]
     },
     "execution_count": 131,
     "metadata": {},
     "output_type": "execute_result"
    }
   ],
   "source": [
    "bk2.ISBN"
   ]
  },
  {
   "cell_type": "code",
   "execution_count": 132,
   "id": "3f901bfd-2d8b-4ddb-a077-34ddfee3ce23",
   "metadata": {},
   "outputs": [],
   "source": [
    "VR1 = voice_recording(\"ARR\",\"60\")\n",
    "VR2 = voice_recording(\"BRR\",\"67\")\n",
    "VR3 = voice_recording(\"CRR\",\"88\")\n",
    "VR4 = voice_recording(\"DRR\",\"98\")\n",
    "VR5 = voice_recording(\"ERR\",\"123\")"
   ]
  },
  {
   "cell_type": "code",
   "execution_count": 135,
   "id": "83f10acd-28c2-4101-aec2-9a3370f25f1f",
   "metadata": {},
   "outputs": [
    {
     "data": {
      "text/plain": [
       "'60'"
      ]
     },
     "execution_count": 135,
     "metadata": {},
     "output_type": "execute_result"
    }
   ],
   "source": [
    "VR1.duration"
   ]
  },
  {
   "cell_type": "code",
   "execution_count": 138,
   "id": "fce2fb17-4a9b-41a6-9392-cfc54cdff923",
   "metadata": {},
   "outputs": [],
   "source": [
    "tk1 = talking_book(author=\"maths\", edition=\"1\", ISBN=\"11111\", speaker=\"ARR\", duration=\"60\")"
   ]
  },
  {
   "cell_type": "code",
   "execution_count": 139,
   "id": "db684c43-04f8-4fd8-8841-a7d34ba0eccc",
   "metadata": {},
   "outputs": [
    {
     "data": {
      "text/plain": [
       "'maths'"
      ]
     },
     "execution_count": 139,
     "metadata": {},
     "output_type": "execute_result"
    }
   ],
   "source": [
    "tk1.author"
   ]
  },
  {
   "cell_type": "code",
   "execution_count": 146,
   "id": "dd72fbc1-a648-4652-a343-bc92653df94c",
   "metadata": {},
   "outputs": [],
   "source": [
    "class book():\n",
    "    def __init__(self,author,edition,ISBN):\n",
    "        self.author = author\n",
    "        self.edition = edition\n",
    "        self.ISBN = ISBN\n",
    "####################################################################\n",
    "class voice_recording():\n",
    "    def __init__(self,speaker,duration):\n",
    "        self.speaker = speaker\n",
    "        self.duration = duration\n",
    "####################################################################\n",
    "class talking_book(book, voice_recording):\n",
    "    def __init__(self, author, edition, ISBN, speaker, duration):\n",
    "        # Call the __init__ methods of both parent classes\n",
    "        book.__init__(self, author, edition, ISBN)\n",
    "        voice_recording.__init__(self, speaker, duration)\n",
    "        self.no_of_tapes = 10"
   ]
  },
  {
   "cell_type": "code",
   "execution_count": 147,
   "id": "4bc9cfbc-5087-4a32-9688-6291ec2949cd",
   "metadata": {},
   "outputs": [],
   "source": [
    "tk1 = talking_book(\"maths\",\"1\",\"1111\",\"Arr\",\"67\")"
   ]
  },
  {
   "cell_type": "code",
   "execution_count": 149,
   "id": "643e6f04-cc60-490a-9c0d-cef61d67310f",
   "metadata": {},
   "outputs": [
    {
     "data": {
      "text/plain": [
       "'maths'"
      ]
     },
     "execution_count": 149,
     "metadata": {},
     "output_type": "execute_result"
    }
   ],
   "source": [
    "tk1.author"
   ]
  },
  {
   "cell_type": "code",
   "execution_count": null,
   "id": "9d16e3ba-5a7d-43a7-9341-2197aab54b56",
   "metadata": {},
   "outputs": [],
   "source": [
    "class book():\n",
    "    def __init__(self,author,edition,ISBN):\n",
    "        self.author = author\n",
    "        self.edition = edition\n",
    "        self.ISBN = ISBN\n",
    "####################################################################\n",
    "class voice_recording():\n",
    "    def __init__(self,speaker,duration):\n",
    "        self.speaker = speaker\n",
    "        self.duration = duration\n",
    "####################################################################\n",
    "class talking_book(book, voice_recording):\n",
    "    def __init__(self, author, edition, ISBN, speaker, duration):\n",
    "        # Call the __init__ methods of both parent classes\n",
    "        book.__init__(self, author, edition, ISBN)\n",
    "        voice_recording.__init__(self, speaker, duration)\n",
    "        self.no_of_tapes = 10\n"
   ]
  },
  {
   "cell_type": "code",
   "execution_count": 150,
   "id": "cb2d236a-ac16-431d-ba14-b88555e794e3",
   "metadata": {},
   "outputs": [],
   "source": [
    "bk1 = book(\"maths\",\"1\",\"11111\")\n",
    "bk2 = book(\"phy\",\"2\",\"22\")\n",
    "bk3 = book(\"eng\",\"5\",\"333\")\n",
    "bk4 = book(\"bio\",\"7\",\"77\")\n",
    "bk5 = book(\"comp\",\"3\",\"3434\")\n",
    "bk6 = book(\"zoo\",\"1\",\"1212\")\n",
    "bk7 = book(\"his\",\"9\",\"1234\")"
   ]
  },
  {
   "cell_type": "code",
   "execution_count": 151,
   "id": "9a6cbfdf-2c2d-4dfc-8cd0-d54df5ba2567",
   "metadata": {},
   "outputs": [],
   "source": [
    "VR1 = voice_recording(\"ARR\",\"60\")\n",
    "VR2 = voice_recording(\"BRR\",\"67\")\n",
    "VR3 = voice_recording(\"CRR\",\"88\")\n",
    "VR4 = voice_recording(\"DRR\",\"98\")\n",
    "VR5 = voice_recording(\"ERR\",\"123\")"
   ]
  },
  {
   "cell_type": "code",
   "execution_count": 154,
   "id": "b494abb6-04f8-48c3-932a-1cec62b43cfc",
   "metadata": {},
   "outputs": [
    {
     "ename": "TypeError",
     "evalue": "talking_book.__init__() missing 3 required positional arguments: 'ISBN', 'speaker', and 'duration'",
     "output_type": "error",
     "traceback": [
      "\u001b[1;31m---------------------------------------------------------------------------\u001b[0m",
      "\u001b[1;31mTypeError\u001b[0m                                 Traceback (most recent call last)",
      "Cell \u001b[1;32mIn[154], line 1\u001b[0m\n\u001b[1;32m----> 1\u001b[0m tk1\u001b[38;5;241m=\u001b[39m talking_book(bk1, VR1)\n",
      "\u001b[1;31mTypeError\u001b[0m: talking_book.__init__() missing 3 required positional arguments: 'ISBN', 'speaker', and 'duration'"
     ]
    }
   ],
   "source": [
    "tk1= talking_book(bk1, VR1)"
   ]
  },
  {
   "cell_type": "code",
   "execution_count": 156,
   "id": "53750cef-ef34-4190-934b-1527853dba0f",
   "metadata": {},
   "outputs": [],
   "source": [
    "class book():\n",
    "    def __init__(self,author,edition,ISBN):\n",
    "        self.author = author\n",
    "        self.edition = edition\n",
    "        self.ISBN = ISBN\n",
    "####################################################################\n",
    "class voice_recording():\n",
    "    def __init__(self,speaker,duration):\n",
    "        self.speaker = speaker\n",
    "        self.duration = duration\n",
    "####################################################################\n",
    "class talking_book(book, voice_recording):\n",
    "    def __init__(self, author, edition, ISBN, speaker, duration):\n",
    "        # Call the __init__ methods of both parent classes\n",
    "        book.__init__(self, author, edition, ISBN)\n",
    "        voice_recording.__init__(self, speaker, duration)\n",
    "        self.no_of_tapes = 10\n",
    "##########################################################\n",
    "bk1 = book(\"maths\",\"1\",\"11111\")\n",
    "bk2 = book(\"phy\",\"2\",\"22\")\n",
    "bk3 = book(\"eng\",\"5\",\"333\")\n",
    "bk4 = book(\"bio\",\"7\",\"77\")\n",
    "bk5 = book(\"comp\",\"3\",\"3434\")\n",
    "bk6 = book(\"zoo\",\"1\",\"1212\")\n",
    "bk7 = book(\"his\",\"9\",\"1234\")\n",
    "##############################################################\n",
    "VR1 = voice_recording(\"ARR\",\"60\")\n",
    "VR2 = voice_recording(\"BRR\",\"67\")\n",
    "VR3 = voice_recording(\"CRR\",\"88\")\n",
    "VR4 = voice_recording(\"DRR\",\"98\")\n",
    "VR5 = voice_recording(\"ERR\",\"123\")\n",
    "VR6 = voice_recording(\"FRR\",\"789\")\n",
    "VR7 = voice_recording(\"GRR\",\"000\")"
   ]
  },
  {
   "cell_type": "code",
   "execution_count": 157,
   "id": "de3b08d3-2a3a-4a45-a2f9-1d8e6f4852e5",
   "metadata": {},
   "outputs": [],
   "source": [
    "tk1 = talking_book(author=bk1.author,\n",
    "                   edition=bk1.edition,\n",
    "                   ISBN=bk1.ISBN,\n",
    "                   speaker=VR1.speaker,\n",
    "                   duration=VR1.duration)"
   ]
  },
  {
   "cell_type": "code",
   "execution_count": 158,
   "id": "58590c46-7267-455d-b0fd-ace1cbcadd6d",
   "metadata": {},
   "outputs": [
    {
     "data": {
      "text/plain": [
       "'maths'"
      ]
     },
     "execution_count": 158,
     "metadata": {},
     "output_type": "execute_result"
    }
   ],
   "source": [
    "tk1.author"
   ]
  },
  {
   "cell_type": "code",
   "execution_count": 159,
   "id": "770073c6-ea47-4347-af90-05a6de0b18f3",
   "metadata": {},
   "outputs": [
    {
     "data": {
      "text/plain": [
       "'ARR'"
      ]
     },
     "execution_count": 159,
     "metadata": {},
     "output_type": "execute_result"
    }
   ],
   "source": [
    "tk1.speaker"
   ]
  },
  {
   "cell_type": "code",
   "execution_count": null,
   "id": "2b547a4c-093a-4e24-8b1e-9985a0be44d2",
   "metadata": {},
   "outputs": [],
   "source": [
    "##hierarchial inheritance"
   ]
  },
  {
   "cell_type": "code",
   "execution_count": 160,
   "id": "e9c057da-8ec9-40a6-b3cd-4120df8ce991",
   "metadata": {},
   "outputs": [],
   "source": [
    "class animal():\n",
    "    def __init__(self,name):\n",
    "        self.name = name\n",
    "    def animalmet (self):\n",
    "        print (\"animal says hello\")\n",
    "######################################################\n",
    "class cat(animal):\n",
    "    def speak(self):\n",
    "        print(\"cat says meow\")\n",
    "####################################################\n",
    "class dog(animal):\n",
    "    def speak(self):\n",
    "        print(\"dog says Woof\")"
   ]
  },
  {
   "cell_type": "code",
   "execution_count": 161,
   "id": "93f72f5a-1b46-4c03-9675-93a2589117fa",
   "metadata": {},
   "outputs": [],
   "source": [
    "cat1 = cat(\"tommy\")"
   ]
  },
  {
   "cell_type": "code",
   "execution_count": 162,
   "id": "1baed1c1-ee16-49de-a748-9ec3f493eaef",
   "metadata": {},
   "outputs": [
    {
     "data": {
      "text/plain": [
       "'tommy'"
      ]
     },
     "execution_count": 162,
     "metadata": {},
     "output_type": "execute_result"
    }
   ],
   "source": [
    "cat1.name"
   ]
  },
  {
   "cell_type": "code",
   "execution_count": 163,
   "id": "1fec74a1-57f8-4cba-900a-665f4f04ea9b",
   "metadata": {},
   "outputs": [
    {
     "name": "stdout",
     "output_type": "stream",
     "text": [
      "animal says hello\n"
     ]
    }
   ],
   "source": [
    "cat1.animalmet()"
   ]
  },
  {
   "cell_type": "code",
   "execution_count": 164,
   "id": "26fee830-d0fb-4c4f-9175-36e9daf9d32f",
   "metadata": {},
   "outputs": [
    {
     "name": "stdout",
     "output_type": "stream",
     "text": [
      "cat says meow\n"
     ]
    }
   ],
   "source": [
    "cat1.speak()"
   ]
  },
  {
   "cell_type": "code",
   "execution_count": 166,
   "id": "edfd3fd2-141e-4327-82e4-b45a4cdd133a",
   "metadata": {},
   "outputs": [],
   "source": [
    "dog1 = dog(\"scobby\")"
   ]
  },
  {
   "cell_type": "code",
   "execution_count": 168,
   "id": "9b0d32f7-0707-4df1-a911-35829da8a890",
   "metadata": {},
   "outputs": [
    {
     "name": "stdout",
     "output_type": "stream",
     "text": [
      "animal says hello\n"
     ]
    }
   ],
   "source": [
    "dog1.animalmet()"
   ]
  },
  {
   "cell_type": "code",
   "execution_count": 169,
   "id": "64b8bdc5-608c-48df-883e-4270c318b173",
   "metadata": {},
   "outputs": [
    {
     "data": {
      "text/plain": [
       "'scobby'"
      ]
     },
     "execution_count": 169,
     "metadata": {},
     "output_type": "execute_result"
    }
   ],
   "source": [
    "dog1.name"
   ]
  },
  {
   "cell_type": "code",
   "execution_count": 171,
   "id": "d4808516-7cdf-4b87-9d5c-91f2c5c16f80",
   "metadata": {},
   "outputs": [
    {
     "name": "stdout",
     "output_type": "stream",
     "text": [
      "dog says Woof\n"
     ]
    }
   ],
   "source": [
    "dog1.speak()"
   ]
  },
  {
   "cell_type": "code",
   "execution_count": null,
   "id": "b2b64e96-9891-4d53-acad-6eb5a28b233f",
   "metadata": {},
   "outputs": [],
   "source": [
    "#polymorphism : it means many forms. a method present in a different forms)"
   ]
  },
  {
   "cell_type": "code",
   "execution_count": 172,
   "id": "14599e73-a6d7-4a3a-bf40-a1fbdbe33ce8",
   "metadata": {},
   "outputs": [],
   "source": [
    "class bank ():\n",
    "    def get_interest(self):\n",
    "        return 10\n",
    "    def get_loan_interest(self):\n",
    "        return 18\n",
    "\n",
    "class SBI(bank):\n",
    "    def get_interest(self):\n",
    "        return 7\n",
    "\n",
    "class ICICI(bank):\n",
    "    def get_interest(self):\n",
    "        return 9\n",
    "    def get_loan_interest(self):\n",
    "        return 5"
   ]
  },
  {
   "cell_type": "code",
   "execution_count": 173,
   "id": "bc9fda33-d0d5-4d7a-8cf9-471e4643c1a4",
   "metadata": {},
   "outputs": [],
   "source": [
    "s = SBI()"
   ]
  },
  {
   "cell_type": "code",
   "execution_count": 174,
   "id": "065293e2-99a6-4d1d-91fa-023c4aac8740",
   "metadata": {},
   "outputs": [
    {
     "data": {
      "text/plain": [
       "7"
      ]
     },
     "execution_count": 174,
     "metadata": {},
     "output_type": "execute_result"
    }
   ],
   "source": [
    "s.get_interest()"
   ]
  },
  {
   "cell_type": "code",
   "execution_count": 175,
   "id": "f3a31938-d8ea-41e0-ba8f-b294bbfaedf1",
   "metadata": {},
   "outputs": [
    {
     "data": {
      "text/plain": [
       "18"
      ]
     },
     "execution_count": 175,
     "metadata": {},
     "output_type": "execute_result"
    }
   ],
   "source": [
    "s.get_loan_interest()"
   ]
  },
  {
   "cell_type": "code",
   "execution_count": 177,
   "id": "ac6f1962-f1e3-47e7-991d-8e71c455304a",
   "metadata": {},
   "outputs": [],
   "source": [
    "d = ICICI()"
   ]
  },
  {
   "cell_type": "code",
   "execution_count": 178,
   "id": "3ebd8b6b-95e5-443c-9845-0a3a60b103d0",
   "metadata": {},
   "outputs": [
    {
     "data": {
      "text/plain": [
       "9"
      ]
     },
     "execution_count": 178,
     "metadata": {},
     "output_type": "execute_result"
    }
   ],
   "source": [
    "d.get_interest()"
   ]
  },
  {
   "cell_type": "code",
   "execution_count": 179,
   "id": "509fed4e-80fd-48a9-a0c2-515d25cc6236",
   "metadata": {},
   "outputs": [
    {
     "data": {
      "text/plain": [
       "5"
      ]
     },
     "execution_count": 179,
     "metadata": {},
     "output_type": "execute_result"
    }
   ],
   "source": [
    "d.get_loan_interest()"
   ]
  },
  {
   "cell_type": "code",
   "execution_count": null,
   "id": "465060d6-7c6a-4988-adc5-0ab75eddcf73",
   "metadata": {},
   "outputs": [],
   "source": [
    "#method resolution operator"
   ]
  },
  {
   "attachments": {
    "d9e2b293-6797-4c50-9a3b-616650e5424b.png": {
     "image/png": "[encoded data removed]"
    }
   },
   "cell_type": "markdown",
   "id": "475844b8-9f47-4436-8a7c-611c15f62b3c",
   "metadata": {},
   "source": [
    "![image.png](attachment:d9e2b293-6797-4c50-9a3b-616650e5424b.png)"
   ]
  },
  {
   "cell_type": "code",
   "execution_count": 182,
   "id": "90f285c1-77ba-4bdc-b89d-b1b5f8ecadf5",
   "metadata": {},
   "outputs": [],
   "source": [
    "# start with parent A\n",
    "class A():\n",
    "    def rk (self):\n",
    "        print (\"In class A\")\n",
    "############################################################\n",
    "class B(A):\n",
    "    def rk (self):\n",
    "        print (\"In class B\")\n",
    "############################################################\n",
    "class C(A):\n",
    "    def rk (self):\n",
    "        print (\"In class C\")\n",
    "############################################################\n",
    "class D(B,C):\n",
    "    pass ##pass is to skip, class should be complete so we using it pass keyword"
   ]
  },
  {
   "cell_type": "code",
   "execution_count": 183,
   "id": "5b3dafd2-b558-41cf-89f5-e2ae32dba10b",
   "metadata": {},
   "outputs": [],
   "source": [
    "r=D()"
   ]
  },
  {
   "cell_type": "code",
   "execution_count": 185,
   "id": "c5105a9b-3154-4465-b3d8-071ce9a05195",
   "metadata": {},
   "outputs": [
    {
     "name": "stdout",
     "output_type": "stream",
     "text": [
      "In class B\n"
     ]
    }
   ],
   "source": [
    "r.rk()"
   ]
  },
  {
   "cell_type": "code",
   "execution_count": 186,
   "id": "764f3f9f-be89-4103-bb76-2440d5b5c565",
   "metadata": {},
   "outputs": [
    {
     "data": {
      "text/plain": [
       "(__main__.D, __main__.B, __main__.C, __main__.A, object)"
      ]
     },
     "execution_count": 186,
     "metadata": {},
     "output_type": "execute_result"
    }
   ],
   "source": [
    "D.__mro__ ## iam going to start with D, and B is firt in bracket,and then c, ...."
   ]
  }
 ],
 "metadata": {
  "kernelspec": {
   "display_name": "Python 3 (ipykernel)",
   "language": "python",
   "name": "python3"
  },
  "language_info": {
   "codemirror_mode": {
    "name": "ipython",
    "version": 3
   },
   "file_extension": ".py",
   "mimetype": "text/x-python",
   "name": "python",
   "nbconvert_exporter": "python",
   "pygments_lexer": "ipython3",
   "version": "3.11.7"
  }
 },
 "nbformat": 4,
 "nbformat_minor": 5
}
