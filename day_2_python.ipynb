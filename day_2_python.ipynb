{
 "cells": [
  {
   "cell_type": "code",
   "execution_count": null,
   "id": "30def25b-50bd-463b-800e-ed5ca1ca4972",
   "metadata": {},
   "outputs": [],
   "source": [
    "#if else statement"
   ]
  },
  {
   "cell_type": "code",
   "execution_count": null,
   "id": "56ca00e3-953c-4a18-82d0-0e41f4118d6f",
   "metadata": {},
   "outputs": [],
   "source": [
    "# write a if else statement which will print hippo is heavier / rihno is heavier"
   ]
  },
  {
   "cell_type": "code",
   "execution_count": 4,
   "id": "a86c32f1-758e-4417-be84-e7dd0772944e",
   "metadata": {},
   "outputs": [
    {
     "name": "stdout",
     "output_type": "stream",
     "text": [
      "hippo is heavier\n"
     ]
    }
   ],
   "source": [
    "hippo = 800\n",
    "rhino = 600\n",
    "\n",
    "if(hippo > rhino):\n",
    " print (\"hippo is heavier\")\n",
    "else:\n",
    " print (\"rihno is heavier\")"
   ]
  },
  {
   "cell_type": "code",
   "execution_count": 5,
   "id": "a91bb0e6-d02a-4456-b9a8-09a8f26f4029",
   "metadata": {},
   "outputs": [
    {
     "name": "stdout",
     "output_type": "stream",
     "text": [
      "rihno is heavier\n"
     ]
    }
   ],
   "source": [
    "hippo = 800\n",
    "rhino = 800\n",
    "\n",
    "if(hippo > rhino):\n",
    " print (\"hippo is heavier\")\n",
    "else:\n",
    " print (\"rihno is heavier\")"
   ]
  },
  {
   "cell_type": "code",
   "execution_count": 8,
   "id": "6dfbe234-00e8-476e-a3f3-9246df294a40",
   "metadata": {},
   "outputs": [
    {
     "name": "stdout",
     "output_type": "stream",
     "text": [
      "both equal\n",
      "rihno is heavier\n"
     ]
    }
   ],
   "source": [
    "hippo = 800\n",
    "rhino = 800\n",
    "\n",
    "if (hippo == rhino):\n",
    " print (\"both equal\")\n",
    "if(hippo > rhino):\n",
    " print (\"hippo is heavier\")\n",
    "else:\n",
    " print (\"rihno is heavier\")"
   ]
  },
  {
   "cell_type": "code",
   "execution_count": 9,
   "id": "4babb212-8b08-4da7-a643-e2297672d866",
   "metadata": {},
   "outputs": [
    {
     "name": "stdout",
     "output_type": "stream",
     "text": [
      "both same weight\n"
     ]
    }
   ],
   "source": [
    "hippo = 800\n",
    "rhino = 800\n",
    "\n",
    "if(hippo > rhino):\n",
    " print (\"hippo is heavier\")\n",
    "elif (hippo == rhino):\n",
    "    print (\"both same weight\")\n",
    "else:\n",
    " print (\"rihno is heavier\")"
   ]
  },
  {
   "cell_type": "code",
   "execution_count": null,
   "id": "babbde6f-8f70-418e-98ee-4bdff3b1b278",
   "metadata": {},
   "outputs": [],
   "source": [
    "# Problem statement 2:\n",
    "'''\n",
    "Depending on the marks obtained by students give a grade\n",
    "Perc >= 60 ==> First Division\n",
    "Perc between 50 & 59 ==> Second Division\n",
    "Perc between 40 & 49 ==> Third Division\n",
    "Perc less than 40 ==> Fail \n",
    "'''"
   ]
  },
  {
   "cell_type": "code",
   "execution_count": 10,
   "id": "18b784da-8a24-4c3b-b95a-56748e8218a5",
   "metadata": {},
   "outputs": [
    {
     "name": "stdout",
     "output_type": "stream",
     "text": [
      "70.0\n"
     ]
    }
   ],
   "source": [
    "student_name = 'Easvar';\n",
    "total_mark = 100\n",
    "mark_obtained = 70\n",
    "percentage = (mark_obtained/total_mark)*100\n",
    "print (percentage)"
   ]
  },
  {
   "cell_type": "code",
   "execution_count": 11,
   "id": "3dafe660-2238-491f-815e-4521be205397",
   "metadata": {},
   "outputs": [
    {
     "name": "stdout",
     "output_type": "stream",
     "text": [
      "First division\n"
     ]
    }
   ],
   "source": [
    "student_name = 'Easvar';\n",
    "total_mark = 100;\n",
    "mark_obtained = 70;\n",
    "perc = (mark_obtained/total_mark)*100;\n",
    "if (perc >= 60):\n",
    "    print (\"First division\");\n",
    "elif (perc >= 50 and perc <= 59):\n",
    "     print (\"second div\");\n",
    "elif (perc >= 40 and perc <= 49):\n",
    "    print (\"thrd div\");\n",
    "else:\n",
    "    print (\"Fail\");"
   ]
  },
  {
   "cell_type": "code",
   "execution_count": 12,
   "id": "63f9826a-541d-4c41-b233-7c665da1a79d",
   "metadata": {},
   "outputs": [
    {
     "name": "stdout",
     "output_type": "stream",
     "text": [
      "Fail\n"
     ]
    }
   ],
   "source": [
    "student_name = 'Easvar';\n",
    "total_mark = 100;\n",
    "mark_obtained = 10;\n",
    "perc = (mark_obtained/total_mark)*100;\n",
    "if (perc >= 60):\n",
    "    print (\"First division\");\n",
    "elif (perc >= 50 and perc <= 59):\n",
    "     print (\"second div\");\n",
    "elif (perc >= 40 and perc <= 49):\n",
    "    print (\"thrd div\");\n",
    "else:\n",
    "    print (\"Fail\");"
   ]
  },
  {
   "cell_type": "code",
   "execution_count": 13,
   "id": "d40244e7-2307-4ffe-9ead-d620f0f8873d",
   "metadata": {},
   "outputs": [
    {
     "name": "stdout",
     "output_type": "stream",
     "text": [
      "second div\n"
     ]
    }
   ],
   "source": [
    "student_name = 'Easvar';\n",
    "total_mark = 100;\n",
    "mark_obtained = 50;\n",
    "perc = (mark_obtained/total_mark)*100;\n",
    "if (perc >= 60):\n",
    "    print (\"First division\");\n",
    "elif (perc >= 50 and perc <= 59):\n",
    "     print (\"second div\");\n",
    "elif (perc >= 40 and perc <= 49):\n",
    "    print (\"thrd div\");\n",
    "else:\n",
    "    print (\"Fail\");"
   ]
  },
  {
   "cell_type": "code",
   "execution_count": 16,
   "id": "b90813ea-0b25-49b2-820e-a08b801c9233",
   "metadata": {},
   "outputs": [
    {
     "ename": "IndentationError",
     "evalue": "unexpected indent (1814369353.py, line 2)",
     "output_type": "error",
     "traceback": [
      "\u001b[1;36m  Cell \u001b[1;32mIn[16], line 2\u001b[1;36m\u001b[0m\n\u001b[1;33m    while (a < 3):\u001b[0m\n\u001b[1;37m    ^\u001b[0m\n\u001b[1;31mIndentationError\u001b[0m\u001b[1;31m:\u001b[0m unexpected indent\n"
     ]
    }
   ],
   "source": [
    "a = 0;\n",
    "    while (a < 3):\n",
    "        print (a);"
   ]
  },
  {
   "cell_type": "code",
   "execution_count": null,
   "id": "bc6b20b1-e335-4155-b602-a026b4977bda",
   "metadata": {},
   "outputs": [],
   "source": [
    "# gives infinite 0, loop will never end\n",
    "a=0\n",
    "while (a<3):\n",
    "    print (a)"
   ]
  },
  {
   "cell_type": "code",
   "execution_count": 24,
   "id": "0398a9e1-d7ae-44fb-847f-b2c55df0068a",
   "metadata": {},
   "outputs": [
    {
     "name": "stdout",
     "output_type": "stream",
     "text": [
      "0\n",
      "1\n",
      "2\n",
      "3\n"
     ]
    }
   ],
   "source": [
    "a=0\n",
    "while (a<4):\n",
    "    print (a)\n",
    "    a = a+1"
   ]
  },
  {
   "cell_type": "code",
   "execution_count": 28,
   "id": "54c652dd-2305-4025-9c97-d3b6a07ae92b",
   "metadata": {},
   "outputs": [
    {
     "name": "stdout",
     "output_type": "stream",
     "text": [
      "100\n",
      "99\n",
      "98\n",
      "97\n",
      "96\n",
      "95\n",
      "reaches critical temp\n"
     ]
    }
   ],
   "source": [
    "temp = 100\n",
    "while (temp>=95):\n",
    "    print (temp)\n",
    "    temp = temp -1\n",
    "else:\n",
    "    print (\"reaches critical temp\")"
   ]
  },
  {
   "cell_type": "code",
   "execution_count": 33,
   "id": "6d8568fb-ea4a-4c5a-b178-4ba2e0dcff05",
   "metadata": {},
   "outputs": [
    {
     "name": "stdout",
     "output_type": "stream",
     "text": [
      "100\n",
      "99\n",
      "98\n",
      "97\n",
      "96\n",
      "95\n",
      "reaches critical temp\n"
     ]
    }
   ],
   "source": [
    "temp = 100\n",
    "while (temp>=95):\n",
    "    print (temp)\n",
    "    temp = temp-1\n",
    "else:\n",
    "    print (\"reaches critical temp\")"
   ]
  },
  {
   "cell_type": "code",
   "execution_count": null,
   "id": "bc77bdb7-271f-4d91-a0f1-7c8e382d5e8e",
   "metadata": {},
   "outputs": [],
   "source": [
    "# break the loop"
   ]
  },
  {
   "cell_type": "code",
   "execution_count": 36,
   "id": "355441d8-c4c7-46d8-b2d0-3f82503075a8",
   "metadata": {},
   "outputs": [
    {
     "name": "stdout",
     "output_type": "stream",
     "text": [
      "1\n",
      "2\n",
      "3\n",
      "4\n",
      "5\n",
      "6\n",
      "7\n",
      "8\n",
      "9\n",
      "10\n"
     ]
    }
   ],
   "source": [
    "var = 1\n",
    "while (var <= 10):\n",
    "    print (var)\n",
    "    var = var+1"
   ]
  },
  {
   "cell_type": "code",
   "execution_count": 37,
   "id": "788ade79-84ff-4bd5-b1dd-75adee3ec42e",
   "metadata": {},
   "outputs": [
    {
     "name": "stdout",
     "output_type": "stream",
     "text": [
      "1\n",
      "2\n",
      "3\n",
      "4\n",
      "5\n",
      "6\n"
     ]
    }
   ],
   "source": [
    "var = 1\n",
    "while (var <= 10):\n",
    "    if (var==7):\n",
    "        break\n",
    "    print (var)\n",
    "    var = var+1"
   ]
  },
  {
   "cell_type": "code",
   "execution_count": 38,
   "id": "57c5bd5f-263b-41b7-b409-2973b43bb473",
   "metadata": {},
   "outputs": [
    {
     "name": "stdout",
     "output_type": "stream",
     "text": [
      "1\n",
      "2\n",
      "3\n",
      "4\n",
      "5\n",
      "6\n"
     ]
    },
    {
     "ename": "KeyboardInterrupt",
     "evalue": "",
     "output_type": "error",
     "traceback": [
      "\u001b[1;31m---------------------------------------------------------------------------\u001b[0m",
      "\u001b[1;31mKeyboardInterrupt\u001b[0m                         Traceback (most recent call last)",
      "Cell \u001b[1;32mIn[38], line 4\u001b[0m\n\u001b[0;32m      2\u001b[0m \u001b[38;5;28;01mwhile\u001b[39;00m (var \u001b[38;5;241m<\u001b[39m\u001b[38;5;241m=\u001b[39m \u001b[38;5;241m10\u001b[39m):\n\u001b[0;32m      3\u001b[0m     \u001b[38;5;28;01mif\u001b[39;00m (var\u001b[38;5;241m==\u001b[39m\u001b[38;5;241m7\u001b[39m):\n\u001b[1;32m----> 4\u001b[0m         \u001b[38;5;28;01mcontinue\u001b[39;00m\n\u001b[0;32m      5\u001b[0m     \u001b[38;5;28mprint\u001b[39m (var)\n\u001b[0;32m      6\u001b[0m     var \u001b[38;5;241m=\u001b[39m var\u001b[38;5;241m+\u001b[39m\u001b[38;5;241m1\u001b[39m\n",
      "\u001b[1;31mKeyboardInterrupt\u001b[0m: "
     ]
    }
   ],
   "source": [
    "var = 1\n",
    "while (var <= 10):\n",
    "    if (var==7):\n",
    "        continue\n",
    "    print (var)\n",
    "    var = var+1"
   ]
  },
  {
   "cell_type": "code",
   "execution_count": 40,
   "id": "1c8910fd-d3ce-4229-9c3d-04b0f1dc6e4d",
   "metadata": {},
   "outputs": [
    {
     "name": "stdout",
     "output_type": "stream",
     "text": [
      "1\n",
      "2\n",
      "3\n",
      "4\n",
      "5\n",
      "6\n"
     ]
    },
    {
     "ename": "KeyboardInterrupt",
     "evalue": "",
     "output_type": "error",
     "traceback": [
      "\u001b[1;31m---------------------------------------------------------------------------\u001b[0m",
      "\u001b[1;31mKeyboardInterrupt\u001b[0m                         Traceback (most recent call last)",
      "Cell \u001b[1;32mIn[40], line 4\u001b[0m\n\u001b[0;32m      2\u001b[0m \u001b[38;5;28;01mwhile\u001b[39;00m (var \u001b[38;5;241m<\u001b[39m\u001b[38;5;241m=\u001b[39m \u001b[38;5;241m10\u001b[39m):\n\u001b[0;32m      3\u001b[0m     \u001b[38;5;28;01mif\u001b[39;00m (var\u001b[38;5;241m==\u001b[39m\u001b[38;5;241m7\u001b[39m):\n\u001b[1;32m----> 4\u001b[0m         \u001b[38;5;28;01mcontinue\u001b[39;00m\n\u001b[0;32m      5\u001b[0m     \u001b[38;5;28mprint\u001b[39m (var)\n\u001b[0;32m      6\u001b[0m     var \u001b[38;5;241m=\u001b[39m var\u001b[38;5;241m+\u001b[39m\u001b[38;5;241m1\u001b[39m\n",
      "\u001b[1;31mKeyboardInterrupt\u001b[0m: "
     ]
    }
   ],
   "source": [
    "var = 1\n",
    "while (var <= 10):\n",
    "    if (var==7):\n",
    "        continue\n",
    "    print (var)\n",
    "    var = var+1"
   ]
  },
  {
   "cell_type": "code",
   "execution_count": 45,
   "id": "b9c6aee4-c102-4e4a-ab78-d19f4da91ad0",
   "metadata": {},
   "outputs": [
    {
     "ename": "IndentationError",
     "evalue": "expected an indented block after 'if' statement on line 3 (495200908.py, line 4)",
     "output_type": "error",
     "traceback": [
      "\u001b[1;36m  Cell \u001b[1;32mIn[45], line 4\u001b[1;36m\u001b[0m\n\u001b[1;33m    var = var+1\u001b[0m\n\u001b[1;37m    ^\u001b[0m\n\u001b[1;31mIndentationError\u001b[0m\u001b[1;31m:\u001b[0m expected an indented block after 'if' statement on line 3\n"
     ]
    }
   ],
   "source": [
    "#due indentation in line 4 is the issue\n",
    "var = 1\n",
    "while (var <= 10):\n",
    "    if (var==7):\n",
    "    var = var+1\n",
    "        continue\n",
    "    print (var)"
   ]
  },
  {
   "cell_type": "code",
   "execution_count": 52,
   "id": "4abb4b9d-840a-43d8-97bf-b48bd6a66ab1",
   "metadata": {},
   "outputs": [
    {
     "name": "stdout",
     "output_type": "stream",
     "text": [
      "1\n",
      "2\n",
      "3\n",
      "4\n",
      "5\n",
      "6\n",
      "8\n",
      "9\n",
      "10\n"
     ]
    }
   ],
   "source": [
    "var = 1\n",
    "while (var <= 10):\n",
    "    if (var==7):\n",
    "        var = var+1\n",
    "        continue\n",
    "    print (var)\n",
    "    var = var+1 #"
   ]
  },
  {
   "cell_type": "code",
   "execution_count": 53,
   "id": "d39f94e9-74c1-461b-80ab-84e4458dc928",
   "metadata": {},
   "outputs": [
    {
     "name": "stdout",
     "output_type": "stream",
     "text": [
      "1\n",
      "2\n",
      "3\n",
      "4\n",
      "5\n",
      "6\n",
      "8\n",
      "9\n",
      "10\n"
     ]
    }
   ],
   "source": [
    "var = 1\n",
    "while (var <= 10):\n",
    "    if (var==7):\n",
    "        var = var+1\n",
    "        continue\n",
    "    print (var)\n",
    "    var = var+1 #without this it will execute infinite loop in 1"
   ]
  },
  {
   "cell_type": "code",
   "execution_count": null,
   "id": "5efc6c6b-2264-4d45-b322-9886c4977dac",
   "metadata": {},
   "outputs": [],
   "source": [
    "# take 5 input of employess"
   ]
  },
  {
   "cell_type": "code",
   "execution_count": 54,
   "id": "aa4aaf7b-be72-41fc-8c7c-c9659cf9b196",
   "metadata": {},
   "outputs": [
    {
     "name": "stdin",
     "output_type": "stream",
     "text": [
      "enter your name Easvar\n"
     ]
    },
    {
     "name": "stdout",
     "output_type": "stream",
     "text": [
      "Easvar\n"
     ]
    },
    {
     "name": "stdin",
     "output_type": "stream",
     "text": [
      "enter your name syed\n"
     ]
    },
    {
     "name": "stdout",
     "output_type": "stream",
     "text": [
      "syed\n"
     ]
    },
    {
     "name": "stdin",
     "output_type": "stream",
     "text": [
      "enter your name mohammed\n"
     ]
    },
    {
     "name": "stdout",
     "output_type": "stream",
     "text": [
      "mohammed\n"
     ]
    },
    {
     "name": "stdin",
     "output_type": "stream",
     "text": [
      "enter your name xxxx\n"
     ]
    },
    {
     "name": "stdout",
     "output_type": "stream",
     "text": [
      "xxxx\n"
     ]
    },
    {
     "name": "stdin",
     "output_type": "stream",
     "text": [
      "enter your name yyyy\n"
     ]
    },
    {
     "name": "stdout",
     "output_type": "stream",
     "text": [
      "yyyy\n"
     ]
    },
    {
     "name": "stdin",
     "output_type": "stream",
     "text": [
      "enter your name eeee\n"
     ]
    },
    {
     "name": "stdout",
     "output_type": "stream",
     "text": [
      "eeee\n"
     ]
    }
   ],
   "source": [
    "a=0\n",
    "while (a<6):\n",
    "    name = input(\"enter your name\")\n",
    "    print (name)\n",
    "    a = a+1"
   ]
  },
  {
   "cell_type": "code",
   "execution_count": 55,
   "id": "3d4bf461-9c45-4f50-8b26-a82eb14380ad",
   "metadata": {},
   "outputs": [
    {
     "name": "stdin",
     "output_type": "stream",
     "text": [
      "enter your name easvar\n"
     ]
    },
    {
     "name": "stdout",
     "output_type": "stream",
     "text": [
      "easvar\n"
     ]
    },
    {
     "name": "stdin",
     "output_type": "stream",
     "text": [
      "enter your name cibe\n"
     ]
    },
    {
     "name": "stdout",
     "output_type": "stream",
     "text": [
      "cibe\n"
     ]
    },
    {
     "name": "stdin",
     "output_type": "stream",
     "text": [
      "enter your name gayathri\n"
     ]
    },
    {
     "name": "stdout",
     "output_type": "stream",
     "text": [
      "gayathri\n"
     ]
    },
    {
     "name": "stdin",
     "output_type": "stream",
     "text": [
      "enter your name iniyan\n"
     ]
    },
    {
     "name": "stdout",
     "output_type": "stream",
     "text": [
      "iniyan\n"
     ]
    },
    {
     "name": "stdin",
     "output_type": "stream",
     "text": [
      "enter your name dhanalakshmi\n"
     ]
    },
    {
     "name": "stdout",
     "output_type": "stream",
     "text": [
      "dhanalakshmi\n"
     ]
    }
   ],
   "source": [
    "a=0\n",
    "while (a<5):\n",
    "    name = input(\"enter your name\")\n",
    "    print (name)\n",
    "    a = a+1"
   ]
  },
  {
   "cell_type": "code",
   "execution_count": 57,
   "id": "6212ef99-be0d-4ab1-9940-bb02ac19e761",
   "metadata": {},
   "outputs": [
    {
     "name": "stdin",
     "output_type": "stream",
     "text": [
      "enter your name a\n"
     ]
    },
    {
     "name": "stdout",
     "output_type": "stream",
     "text": [
      "0\n"
     ]
    },
    {
     "name": "stdin",
     "output_type": "stream",
     "text": [
      "enter your name a\n"
     ]
    },
    {
     "name": "stdout",
     "output_type": "stream",
     "text": [
      "1\n"
     ]
    },
    {
     "name": "stdin",
     "output_type": "stream",
     "text": [
      "enter your name a\n"
     ]
    },
    {
     "name": "stdout",
     "output_type": "stream",
     "text": [
      "2\n"
     ]
    },
    {
     "name": "stdin",
     "output_type": "stream",
     "text": [
      "enter your name a\n"
     ]
    },
    {
     "name": "stdout",
     "output_type": "stream",
     "text": [
      "3\n"
     ]
    },
    {
     "name": "stdin",
     "output_type": "stream",
     "text": [
      "enter your name a\n"
     ]
    },
    {
     "name": "stdout",
     "output_type": "stream",
     "text": [
      "4\n"
     ]
    },
    {
     "name": "stdin",
     "output_type": "stream",
     "text": [
      "enter your name a\n"
     ]
    },
    {
     "name": "stdout",
     "output_type": "stream",
     "text": [
      "5\n"
     ]
    }
   ],
   "source": [
    "a=0\n",
    "while (a<=5):\n",
    "    name = input(\"enter your name\")\n",
    "    print (a)\n",
    "    a = a+1"
   ]
  },
  {
   "cell_type": "code",
   "execution_count": 59,
   "id": "83dd4976-c9f7-4aa1-9f4b-e9c1936ea8c3",
   "metadata": {},
   "outputs": [
    {
     "name": "stdin",
     "output_type": "stream",
     "text": [
      "enter your name easvar\n"
     ]
    },
    {
     "name": "stdout",
     "output_type": "stream",
     "text": [
      "easvar\n"
     ]
    },
    {
     "name": "stdin",
     "output_type": "stream",
     "text": [
      "enter your name iniyan\n"
     ]
    },
    {
     "name": "stdout",
     "output_type": "stream",
     "text": [
      "iniyan\n"
     ]
    },
    {
     "name": "stdin",
     "output_type": "stream",
     "text": [
      "enter your name gayathri\n"
     ]
    },
    {
     "name": "stdout",
     "output_type": "stream",
     "text": [
      "gayathri\n"
     ]
    },
    {
     "name": "stdin",
     "output_type": "stream",
     "text": [
      "enter your name shanmugam\n"
     ]
    },
    {
     "name": "stdout",
     "output_type": "stream",
     "text": [
      "shanmugam\n"
     ]
    },
    {
     "name": "stdin",
     "output_type": "stream",
     "text": [
      "enter your name dhalakshmi\n"
     ]
    },
    {
     "name": "stdout",
     "output_type": "stream",
     "text": [
      "dhalakshmi\n"
     ]
    },
    {
     "name": "stdin",
     "output_type": "stream",
     "text": [
      "enter your name cibe\n"
     ]
    },
    {
     "name": "stdout",
     "output_type": "stream",
     "text": [
      "cibe\n",
      "sorry,limit exceed\n"
     ]
    }
   ],
   "source": [
    "a=0\n",
    "while (a<=5):\n",
    "    name = input(\"enter your name\")\n",
    "    print (name)\n",
    "    a = a+1\n",
    "else:\n",
    "    print (\"sorry,limit exceed\")"
   ]
  },
  {
   "cell_type": "code",
   "execution_count": 65,
   "id": "67529806-831b-4349-bad4-8c8e461fd590",
   "metadata": {},
   "outputs": [
    {
     "name": "stdout",
     "output_type": "stream",
     "text": [
      "1\n",
      "2\n",
      "3\n",
      "4\n",
      "5\n"
     ]
    }
   ],
   "source": [
    "for ctr in range(1,6,1):\n",
    "    print (ctr)"
   ]
  },
  {
   "cell_type": "code",
   "execution_count": 71,
   "id": "8dae2ee1-574b-4637-a5f4-9856521284cb",
   "metadata": {},
   "outputs": [
    {
     "name": "stdout",
     "output_type": "stream",
     "text": [
      "0\n",
      "1\n",
      "2\n",
      "3\n",
      "4\n",
      "5\n"
     ]
    }
   ],
   "source": [
    "for ctr in range(0,6,1):\n",
    "    print (ctr)"
   ]
  },
  {
   "cell_type": "code",
   "execution_count": 73,
   "id": "b9f8d563-8b74-4df7-bc8c-91788fbbf604",
   "metadata": {},
   "outputs": [
    {
     "name": "stdout",
     "output_type": "stream",
     "text": [
      "['Easvar', 'K.S', 25, 'M', 2100.5, 'abc@gmail.com']\n"
     ]
    }
   ],
   "source": [
    "emp1 = ['Easvar','K.S',25,'M',2100.50,'abc@gmail.com']\n",
    "print (emp1)"
   ]
  },
  {
   "cell_type": "code",
   "execution_count": 74,
   "id": "ab6d27a1-a426-42af-9a92-bc02241fa2fe",
   "metadata": {},
   "outputs": [
    {
     "data": {
      "text/plain": [
       "list"
      ]
     },
     "execution_count": 74,
     "metadata": {},
     "output_type": "execute_result"
    }
   ],
   "source": [
    "type(emp1)"
   ]
  },
  {
   "cell_type": "code",
   "execution_count": 75,
   "id": "ed2818af-db34-44c0-acc9-c313643290f3",
   "metadata": {},
   "outputs": [
    {
     "data": {
      "text/plain": [
       "str"
      ]
     },
     "execution_count": 75,
     "metadata": {},
     "output_type": "execute_result"
    }
   ],
   "source": [
    "type (emp1[0])"
   ]
  },
  {
   "cell_type": "code",
   "execution_count": 79,
   "id": "0711ac52-863f-4448-8534-e9f5a96b24b5",
   "metadata": {},
   "outputs": [
    {
     "data": {
      "text/plain": [
       "2100"
      ]
     },
     "execution_count": 79,
     "metadata": {},
     "output_type": "execute_result"
    }
   ],
   "source": [
    "int(emp1[4])"
   ]
  },
  {
   "cell_type": "code",
   "execution_count": 80,
   "id": "e81612e6-15d2-47a1-9dc8-c0156dd779e9",
   "metadata": {},
   "outputs": [
    {
     "name": "stdout",
     "output_type": "stream",
     "text": [
      "2100.5\n"
     ]
    }
   ],
   "source": [
    "print (emp1[4])"
   ]
  },
  {
   "cell_type": "code",
   "execution_count": 81,
   "id": "f7f387f9-128b-43c7-a9a6-efb09dbbabb7",
   "metadata": {},
   "outputs": [],
   "source": [
    "emp1.append ('IN')"
   ]
  },
  {
   "cell_type": "code",
   "execution_count": 82,
   "id": "cbecdf8d-2216-4386-8ec1-fb73ebe18576",
   "metadata": {},
   "outputs": [
    {
     "name": "stdout",
     "output_type": "stream",
     "text": [
      "['Easvar', 'K.S', 25, 'M', 2100.5, 'abc@gmail.com', 'IN']\n"
     ]
    }
   ],
   "source": [
    "print (emp1)"
   ]
  },
  {
   "cell_type": "code",
   "execution_count": 83,
   "id": "fc5998d0-999b-4d30-a970-601a3cb71b96",
   "metadata": {},
   "outputs": [
    {
     "data": {
      "text/plain": [
       "7"
      ]
     },
     "execution_count": 83,
     "metadata": {},
     "output_type": "execute_result"
    }
   ],
   "source": [
    "len(emp1)"
   ]
  },
  {
   "cell_type": "code",
   "execution_count": 84,
   "id": "084b88b3-00a4-46ee-8d60-b8d195461402",
   "metadata": {},
   "outputs": [
    {
     "data": {
      "text/plain": [
       "4"
      ]
     },
     "execution_count": 84,
     "metadata": {},
     "output_type": "execute_result"
    }
   ],
   "source": [
    "emp1.index(2100.5)"
   ]
  },
  {
   "cell_type": "code",
   "execution_count": 87,
   "id": "6637238d-bc59-421c-b59a-b10c7d10d134",
   "metadata": {},
   "outputs": [
    {
     "data": {
      "text/plain": [
       "7"
      ]
     },
     "execution_count": 87,
     "metadata": {},
     "output_type": "execute_result"
    }
   ],
   "source": [
    "len(emp1)"
   ]
  },
  {
   "cell_type": "code",
   "execution_count": 94,
   "id": "ddc0d8af-531f-401b-b0b0-ee367aa9da91",
   "metadata": {},
   "outputs": [
    {
     "name": "stdout",
     "output_type": "stream",
     "text": [
      "h\n",
      "e\n",
      "l\n",
      "l\n",
      "o\n"
     ]
    }
   ],
   "source": [
    "for alphabet in (\"hello\"):\n",
    "    print (alphabet)"
   ]
  },
  {
   "cell_type": "code",
   "execution_count": 97,
   "id": "7e5ad8e9-998c-4659-8bf1-e5babd805b05",
   "metadata": {},
   "outputs": [
    {
     "name": "stdout",
     "output_type": "stream",
     "text": [
      "g\n",
      "a\n",
      "y\n",
      "a\n",
      "t\n",
      "h\n",
      "r\n",
      "i\n",
      "e\n",
      "g\n",
      "a\n",
      "y\n",
      "a\n",
      "t\n",
      "h\n",
      "r\n",
      "i\n",
      "a\n",
      "g\n",
      "a\n",
      "y\n",
      "a\n",
      "t\n",
      "h\n",
      "r\n",
      "i\n",
      "s\n",
      "g\n",
      "a\n",
      "y\n",
      "a\n",
      "t\n",
      "h\n",
      "r\n",
      "i\n",
      "v\n",
      "g\n",
      "a\n",
      "y\n",
      "a\n",
      "t\n",
      "h\n",
      "r\n",
      "i\n",
      "a\n",
      "g\n",
      "a\n",
      "y\n",
      "a\n",
      "t\n",
      "h\n",
      "r\n",
      "i\n",
      "r\n"
     ]
    }
   ],
   "source": [
    "for alphabet in (\"easvar\"):\n",
    "    for al in ('gayathri'):\n",
    "        print (al)\n",
    "    print (alphabet)"
   ]
  },
  {
   "cell_type": "code",
   "execution_count": 98,
   "id": "36d3fb00-d723-460c-902c-cb28841949e3",
   "metadata": {},
   "outputs": [
    {
     "name": "stdout",
     "output_type": "stream",
     "text": [
      "['Easvar', 'K.S', 25, 'M', 2100.5, 'abc@gmail.com']\n"
     ]
    }
   ],
   "source": [
    "emp1 = ['Easvar','K.S',25,'M',2100.50,'abc@gmail.com']\n",
    "print (emp1)"
   ]
  },
  {
   "cell_type": "code",
   "execution_count": 100,
   "id": "c4ae4c4e-e589-403a-837a-a4346e4a2681",
   "metadata": {},
   "outputs": [
    {
     "data": {
      "text/plain": [
       "['Easvar', 'K.S', 25, 'M', 2100.5]"
      ]
     },
     "execution_count": 100,
     "metadata": {},
     "output_type": "execute_result"
    }
   ],
   "source": [
    "emp1[0:5]"
   ]
  },
  {
   "cell_type": "code",
   "execution_count": 104,
   "id": "ba47592d-d8f2-4758-9bc5-0e56ea9293dd",
   "metadata": {},
   "outputs": [
    {
     "name": "stdout",
     "output_type": "stream",
     "text": [
      "['Easvar', 'K.S', 25, 'M', 2100.5, 'abc@gmail.com']\n"
     ]
    }
   ],
   "source": [
    "var=emp1[3]\n",
    "if(var=='M'):\n",
    "    print (emp1)\n",
    "else:\n",
    "    print (\"this is female employess\")"
   ]
  },
  {
   "cell_type": "code",
   "execution_count": 107,
   "id": "3f2f6843-72e8-4d35-b94c-05d372ba4764",
   "metadata": {},
   "outputs": [
    {
     "name": "stdout",
     "output_type": "stream",
     "text": [
      "['Easvar', 'K.S', 25, 'M', 2100.5, 'abc@gmail.com']\n",
      "['Easvar', 'K.S', 25, 'M', 2100.5, 'abc@gmail.com']\n",
      "['Easvar', 'K.S', 25, 'M', 2100.5, 'abc@gmail.com']\n",
      "['Easvar', 'K.S', 25, 'M', 2100.5, 'abc@gmail.com']\n",
      "['Easvar', 'K.S', 25, 'M', 2100.5, 'abc@gmail.com']\n",
      "['Easvar', 'K.S', 25, 'M', 2100.5, 'abc@gmail.com']\n",
      "this is female employess\n"
     ]
    }
   ],
   "source": [
    "var=emp1[3]\n",
    "for ctr in emp1:\n",
    "    if(var=='M'):\n",
    "        print (emp1)\n",
    "else:\n",
    "    print (\"this is female employess\")"
   ]
  },
  {
   "cell_type": "code",
   "execution_count": 109,
   "id": "0d032f91-1286-4ba3-bdc8-c10d8cacc870",
   "metadata": {},
   "outputs": [
    {
     "name": "stdout",
     "output_type": "stream",
     "text": [
      "Easvar\n",
      "K.S\n",
      "25\n",
      "M\n",
      "2100.5\n",
      "abc@gmail.com\n"
     ]
    }
   ],
   "source": [
    "for var in emp1:\n",
    "    print (var)"
   ]
  },
  {
   "cell_type": "code",
   "execution_count": 112,
   "id": "8e73c93d-bee9-48ed-8f64-d38d7ed82412",
   "metadata": {},
   "outputs": [
    {
     "name": "stdout",
     "output_type": "stream",
     "text": [
      "['Easvar', 'K.S', 25, 'M', 2100.5, 'abc@gmail.com']\n"
     ]
    }
   ],
   "source": [
    "var = emp1[3]\n",
    "if(var=='M'):\n",
    "    print (emp1)\n",
    "else:\n",
    "    print(\"soory, it is female employee\")"
   ]
  },
  {
   "cell_type": "code",
   "execution_count": 115,
   "id": "e30fdc10-8e14-4532-8b73-b787e293bcf6",
   "metadata": {},
   "outputs": [
    {
     "ename": "IndentationError",
     "evalue": "expected an indented block after 'for' statement on line 3 (54992869.py, line 4)",
     "output_type": "error",
     "traceback": [
      "\u001b[1;36m  Cell \u001b[1;32mIn[115], line 4\u001b[1;36m\u001b[0m\n\u001b[1;33m    print (ctr)\u001b[0m\n\u001b[1;37m    ^\u001b[0m\n\u001b[1;31mIndentationError\u001b[0m\u001b[1;31m:\u001b[0m expected an indented block after 'for' statement on line 3\n"
     ]
    }
   ],
   "source": [
    "var = emp1[3]\n",
    "if(var=='M'):\n",
    "    for ctr in emp1:\n",
    "    print (ctr)\n",
    "else:\n",
    "    print(\"soory, it is female employee\")"
   ]
  },
  {
   "cell_type": "code",
   "execution_count": 134,
   "id": "c95bfaf1-d43c-44bb-860b-a8517dbb85b3",
   "metadata": {},
   "outputs": [
    {
     "name": "stdout",
     "output_type": "stream",
     "text": [
      "Easvar\n",
      "K.S\n",
      "25\n",
      "M Male\n",
      "M\n",
      "2100.5\n",
      "abc@gmail.com\n"
     ]
    }
   ],
   "source": [
    "for var in emp1:\n",
    "    if (var=='M'):\n",
    "        print (var, \"Male\")\n",
    "    print (var)"
   ]
  },
  {
   "cell_type": "code",
   "execution_count": 135,
   "id": "18691de2-829b-40ec-8413-21aac8f00b86",
   "metadata": {},
   "outputs": [
    {
     "name": "stdout",
     "output_type": "stream",
     "text": [
      "Easvar\n",
      "K.S\n",
      "25\n",
      "M Male\n",
      "2100.5\n",
      "abc@gmail.com\n"
     ]
    }
   ],
   "source": [
    "for var in emp1:\n",
    "    if (var=='M'):\n",
    "        print (var, \"Male\")\n",
    "        continue\n",
    "    print (var)"
   ]
  },
  {
   "cell_type": "code",
   "execution_count": 136,
   "id": "ab7800d7-65fc-419a-b87f-86f7039269a6",
   "metadata": {},
   "outputs": [
    {
     "name": "stdout",
     "output_type": "stream",
     "text": [
      "Easvar\n",
      "K.S\n",
      "25\n",
      "Male\n",
      "2100.5\n",
      "abc@gmail.com\n"
     ]
    }
   ],
   "source": [
    "for var in emp1:\n",
    "    if (var=='M'):\n",
    "        print (\"Male\")\n",
    "        continue\n",
    "    print (var)"
   ]
  },
  {
   "cell_type": "code",
   "execution_count": 141,
   "id": "d016035c-4522-44ca-882d-d46e2c56f66c",
   "metadata": {},
   "outputs": [
    {
     "name": "stdout",
     "output_type": "stream",
     "text": [
      "Male\n"
     ]
    }
   ],
   "source": [
    "check = emp1[3]\n",
    "if (check == 'M'):\n",
    "    for var in emp1:\n",
    "        if (var=='M'):\n",
    "            print (\"Male\")\n",
    "        continue\n",
    "        print (var)"
   ]
  },
  {
   "cell_type": "code",
   "execution_count": 143,
   "id": "5149c623-f352-4f65-a75c-96e5812ba5b5",
   "metadata": {},
   "outputs": [
    {
     "name": "stdout",
     "output_type": "stream",
     "text": [
      "Easvar\n",
      "K.S\n",
      "25\n",
      "male\n",
      "2100.5\n",
      "abc@gmail.com\n"
     ]
    }
   ],
   "source": [
    "check = emp1[3]\n",
    "if(check == 'M'):\n",
    "    for var in emp1:\n",
    "        if (var == 'M'):\n",
    "            print('male')\n",
    "            continue\n",
    "        print (var)"
   ]
  },
  {
   "cell_type": "code",
   "execution_count": 144,
   "id": "d2bcdf7b-4d05-4c08-9ca8-8b01f9b05d47",
   "metadata": {},
   "outputs": [],
   "source": [
    "emp2 = ['gayathri','D',25,'F',2100.50,'abc@gmail.com']"
   ]
  },
  {
   "cell_type": "code",
   "execution_count": 145,
   "id": "95e72d80-afec-404b-83d4-de7e25f2ccd8",
   "metadata": {},
   "outputs": [
    {
     "name": "stdout",
     "output_type": "stream",
     "text": [
      "female emp\n"
     ]
    }
   ],
   "source": [
    "check = emp2[3]\n",
    "if(check == 'M'):\n",
    "    for var in emp1:\n",
    "        if (var == 'M'):\n",
    "            print('male')\n",
    "            continue\n",
    "        print (var)\n",
    "else:\n",
    "    print(\"female emp\")"
   ]
  },
  {
   "cell_type": "code",
   "execution_count": 146,
   "id": "02ecb417-d574-4321-b84e-98765c0bab49",
   "metadata": {},
   "outputs": [
    {
     "name": "stdin",
     "output_type": "stream",
     "text": [
      "Enter the name of employee 1:  easvar\n",
      "Enter the name of employee 2:  ks\n",
      "Enter the name of employee 3:  dd\n",
      "Enter the name of employee 4:  df\n",
      "Enter the name of employee 5:  aa\n"
     ]
    },
    {
     "name": "stdout",
     "output_type": "stream",
     "text": [
      "\n",
      "List of Employees:\n",
      "easvar\n",
      "ks\n",
      "dd\n",
      "df\n",
      "aa\n"
     ]
    }
   ],
   "source": [
    "# Create an empty list to store employee names\n",
    "employee_list = []\n",
    "\n",
    "# Ask the user to input 5 employee names\n",
    "for i in range(5):\n",
    "    name = input(\"Enter the name of employee {}: \".format(i+1))\n",
    "    employee_list.append(name)\n",
    "\n",
    "# Print the list of employees\n",
    "print(\"\\nList of Employees:\")\n",
    "for employee in employee_list:\n",
    "    print(employee)"
   ]
  },
  {
   "cell_type": "code",
   "execution_count": 147,
   "id": "d8c749be-138c-425e-b8f6-abfb1a3a22bf",
   "metadata": {},
   "outputs": [
    {
     "name": "stdout",
     "output_type": "stream",
     "text": [
      "['easvar', 'ks', 'dd', 'df', 'aa']\n"
     ]
    }
   ],
   "source": [
    "print (employee_list)"
   ]
  },
  {
   "cell_type": "code",
   "execution_count": 153,
   "id": "7f21366a-4cbc-419f-ad29-caaa837d460c",
   "metadata": {},
   "outputs": [
    {
     "name": "stdin",
     "output_type": "stream",
     "text": [
      "name of emp a\n",
      "name of emp b\n",
      "name of emp c\n",
      "name of emp d\n",
      "name of emp e\n"
     ]
    },
    {
     "name": "stdout",
     "output_type": "stream",
     "text": [
      "Emp list is:  ['a', 'b', 'c', 'd', 'e']\n"
     ]
    }
   ],
   "source": [
    "employee_list = []\n",
    "for i in range (0,5,1):\n",
    "    name = input(\"name of emp\")\n",
    "    employee_list.append(name)\n",
    "    \n",
    "print('Emp list is: ', employee_list)"
   ]
  },
  {
   "cell_type": "code",
   "execution_count": null,
   "id": "10fd8eb5-5a0d-47c1-9227-d6b4efd07cbc",
   "metadata": {},
   "outputs": [],
   "source": [
    "employee_list = []\n",
    "for i in range (0,5,1):\n",
    "    name = input(\"name of emp\")\n",
    "    employee_list.append(name)\n",
    "    \n",
    "print('Emp list is: ', employee_list)"
   ]
  },
  {
   "cell_type": "code",
   "execution_count": null,
   "id": "0d8b4505-7930-4020-a569-f81e953ba1c1",
   "metadata": {},
   "outputs": [],
   "source": []
  }
 ],
 "metadata": {
  "kernelspec": {
   "display_name": "Python 3 (ipykernel)",
   "language": "python",
   "name": "python3"
  },
  "language_info": {
   "codemirror_mode": {
    "name": "ipython",
    "version": 3
   },
   "file_extension": ".py",
   "mimetype": "text/x-python",
   "name": "python",
   "nbconvert_exporter": "python",
   "pygments_lexer": "ipython3",
   "version": "3.11.7"
  }
 },
 "nbformat": 4,
 "nbformat_minor": 5
}
