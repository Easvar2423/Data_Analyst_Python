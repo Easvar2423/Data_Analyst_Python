{
 "cells": [
  {
   "cell_type": "code",
   "execution_count": 1,
   "id": "36fb0d17-bfd5-4278-b6cc-b0c6e7ab0538",
   "metadata": {},
   "outputs": [
    {
     "name": "stdout",
     "output_type": "stream",
     "text": [
      "hello world\n"
     ]
    }
   ],
   "source": [
    "print (\"hello world\")"
   ]
  },
  {
   "cell_type": "code",
   "execution_count": 2,
   "id": "a336260d-3494-4795-8f40-ae9ebeb890e7",
   "metadata": {},
   "outputs": [
    {
     "name": "stdout",
     "output_type": "stream",
     "text": [
      "30\n"
     ]
    }
   ],
   "source": [
    "# price is a variable and the value of the price is 30\n",
    "price = 30;\n",
    "print (price);"
   ]
  },
  {
   "cell_type": "code",
   "execution_count": null,
   "id": "3ba38dff-86d5-47e1-bbd8-1e0ebabcf7f8",
   "metadata": {},
   "outputs": [],
   "source": []
  }
 ],
 "metadata": {
  "kernelspec": {
   "display_name": "Python 3 (ipykernel)",
   "language": "python",
   "name": "python3"
  },
  "language_info": {
   "codemirror_mode": {
    "name": "ipython",
    "version": 3
   },
   "file_extension": ".py",
   "mimetype": "text/x-python",
   "name": "python",
   "nbconvert_exporter": "python",
   "pygments_lexer": "ipython3",
   "version": "3.11.7"
  }
 },
 "nbformat": 4,
 "nbformat_minor": 5
}
