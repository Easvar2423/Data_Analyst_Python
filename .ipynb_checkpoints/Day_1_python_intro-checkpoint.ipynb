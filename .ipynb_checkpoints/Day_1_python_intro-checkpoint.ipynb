{
 "cells": [
  {
   "cell_type": "code",
   "execution_count": 1,
   "id": "36fb0d17-bfd5-4278-b6cc-b0c6e7ab0538",
   "metadata": {},
   "outputs": [
    {
     "name": "stdout",
     "output_type": "stream",
     "text": [
      "hello world\n"
     ]
    }
   ],
   "source": [
    "print (\"hello world\")"
   ]
  },
  {
   "cell_type": "code",
   "execution_count": 2,
   "id": "a336260d-3494-4795-8f40-ae9ebeb890e7",
   "metadata": {},
   "outputs": [
    {
     "name": "stdout",
     "output_type": "stream",
     "text": [
      "30\n"
     ]
    }
   ],
   "source": [
    "# price is a variable and the value of the price is 30\n",
    "price = 30;\n",
    "print (price);"
   ]
  },
  {
   "cell_type": "code",
   "execution_count": 3,
   "id": "3ba38dff-86d5-47e1-bbd8-1e0ebabcf7f8",
   "metadata": {},
   "outputs": [
    {
     "name": "stdout",
     "output_type": "stream",
     "text": [
      "Easvar\n"
     ]
    }
   ],
   "source": [
    "name = 'Easvar'\n",
    "print (name)"
   ]
  },
  {
   "cell_type": "code",
   "execution_count": 4,
   "id": "83c6c7e8-1b6a-4794-acc7-e4ac2e8ee19e",
   "metadata": {},
   "outputs": [
    {
     "data": {
      "text/plain": [
       "str"
      ]
     },
     "execution_count": 4,
     "metadata": {},
     "output_type": "execute_result"
    }
   ],
   "source": [
    "type (name)"
   ]
  },
  {
   "cell_type": "code",
   "execution_count": 5,
   "id": "7ead6b5f-2734-4f23-8a20-7e480dab637d",
   "metadata": {},
   "outputs": [
    {
     "name": "stdout",
     "output_type": "stream",
     "text": [
      "easvar\n"
     ]
    }
   ],
   "source": [
    "lname = 'easvar'\n",
    "print (lname)"
   ]
  },
  {
   "cell_type": "code",
   "execution_count": 6,
   "id": "7b3578b5-3bbf-48ec-8b6f-1cc894935865",
   "metadata": {},
   "outputs": [
    {
     "name": "stdout",
     "output_type": "stream",
     "text": [
      "Easvar\n"
     ]
    }
   ],
   "source": [
    "first_name = 'Easvar'\n",
    "print (first_name)"
   ]
  },
  {
   "cell_type": "code",
   "execution_count": 7,
   "id": "bedda392-5415-46f4-a1ea-0b022666307c",
   "metadata": {},
   "outputs": [
    {
     "name": "stdout",
     "output_type": "stream",
     "text": [
      "K.S.\n"
     ]
    }
   ],
   "source": [
    "last_name = 'K.S.'\n",
    "print (last_name)"
   ]
  },
  {
   "cell_type": "code",
   "execution_count": null,
   "id": "94d67fa9-2931-4cd6-b87f-f76eeb85405b",
   "metadata": {},
   "outputs": [],
   "source": [
    "## keyword will not have cosidered as a variable example print ..."
   ]
  },
  {
   "cell_type": "code",
   "execution_count": 8,
   "id": "c3aa5bf5-87e8-49a2-90e1-d91ac5606e1e",
   "metadata": {},
   "outputs": [
    {
     "name": "stdout",
     "output_type": "stream",
     "text": [
      "India\n",
      "UK\n"
     ]
    },
    {
     "ename": "NameError",
     "evalue": "name 'Adrss' is not defined",
     "output_type": "error",
     "traceback": [
      "\u001b[1;31m---------------------------------------------------------------------------\u001b[0m",
      "\u001b[1;31mNameError\u001b[0m                                 Traceback (most recent call last)",
      "Cell \u001b[1;32mIn[8], line 7\u001b[0m\n\u001b[0;32m      5\u001b[0m \u001b[38;5;28mprint\u001b[39m (address)\n\u001b[0;32m      6\u001b[0m \u001b[38;5;28mprint\u001b[39m (Address)\n\u001b[1;32m----> 7\u001b[0m \u001b[38;5;28mprint\u001b[39m (Adrss)\n",
      "\u001b[1;31mNameError\u001b[0m: name 'Adrss' is not defined"
     ]
    }
   ],
   "source": [
    "address = 'India'\n",
    "Address = 'UK'\n",
    "adrss = 'Asia'\n",
    "\n",
    "print (address)\n",
    "print (Address)\n",
    "print (Adrss)"
   ]
  },
  {
   "cell_type": "code",
   "execution_count": 9,
   "id": "358c24d4-f6a6-4a60-bbfe-535f9d497a26",
   "metadata": {},
   "outputs": [
    {
     "name": "stdout",
     "output_type": "stream",
     "text": [
      "India\n",
      "UK\n",
      "Asia\n"
     ]
    }
   ],
   "source": [
    "address = 'India'\n",
    "Address = 'UK'\n",
    "adrss = 'Asia'\n",
    "\n",
    "print (address)\n",
    "print (Address)\n",
    "print (adrss)"
   ]
  },
  {
   "cell_type": "code",
   "execution_count": null,
   "id": "70b1f267-c53b-4ad4-b467-e69303110c44",
   "metadata": {},
   "outputs": [],
   "source": [
    "#phython is case sensitive"
   ]
  },
  {
   "cell_type": "code",
   "execution_count": 10,
   "id": "b560d459-8d4d-418e-8025-d42c1ddeb569",
   "metadata": {},
   "outputs": [],
   "source": [
    "# basic types of value - integer, float, string, boolean"
   ]
  },
  {
   "cell_type": "code",
   "execution_count": 11,
   "id": "72dce707-3804-43d5-831e-7110d0ca11ec",
   "metadata": {},
   "outputs": [
    {
     "data": {
      "text/plain": [
       "int"
      ]
     },
     "execution_count": 11,
     "metadata": {},
     "output_type": "execute_result"
    }
   ],
   "source": [
    "price = 30\n",
    "type (price)"
   ]
  },
  {
   "cell_type": "code",
   "execution_count": 12,
   "id": "dfcb8bab-612e-4727-942a-29d479f6baa6",
   "metadata": {},
   "outputs": [
    {
     "data": {
      "text/plain": [
       "float"
      ]
     },
     "execution_count": 12,
     "metadata": {},
     "output_type": "execute_result"
    }
   ],
   "source": [
    "price = 30.33\n",
    "type (price)"
   ]
  },
  {
   "cell_type": "code",
   "execution_count": 13,
   "id": "0837a4d6-aab5-4aa9-902f-f35feded69c1",
   "metadata": {},
   "outputs": [
    {
     "data": {
      "text/plain": [
       "str"
      ]
     },
     "execution_count": 13,
     "metadata": {},
     "output_type": "execute_result"
    }
   ],
   "source": [
    "name = 'Easvar'\n",
    "type (name)"
   ]
  },
  {
   "cell_type": "code",
   "execution_count": 16,
   "id": "91a0f219-0674-4703-aa25-1c7afe89a125",
   "metadata": {},
   "outputs": [
    {
     "data": {
      "text/plain": [
       "bool"
      ]
     },
     "execution_count": 16,
     "metadata": {},
     "output_type": "execute_result"
    }
   ],
   "source": [
    "alive = True\n",
    "type(alive)"
   ]
  },
  {
   "cell_type": "code",
   "execution_count": 17,
   "id": "6a07da79-ee6d-439d-ba90-ceb0b21d2d76",
   "metadata": {},
   "outputs": [
    {
     "data": {
      "text/plain": [
       "bool"
      ]
     },
     "execution_count": 17,
     "metadata": {},
     "output_type": "execute_result"
    }
   ],
   "source": [
    "alive = False\n",
    "type (alive)"
   ]
  },
  {
   "cell_type": "code",
   "execution_count": 18,
   "id": "3c82760d-f101-4b04-8eda-61e16295d5f5",
   "metadata": {},
   "outputs": [
    {
     "ename": "SyntaxError",
     "evalue": "unterminated string literal (detected at line 1) (3475606391.py, line 1)",
     "output_type": "error",
     "traceback": [
      "\u001b[1;36m  Cell \u001b[1;32mIn[18], line 1\u001b[1;36m\u001b[0m\n\u001b[1;33m    statement = 'i haven't slept'\u001b[0m\n\u001b[1;37m                                ^\u001b[0m\n\u001b[1;31mSyntaxError\u001b[0m\u001b[1;31m:\u001b[0m unterminated string literal (detected at line 1)\n"
     ]
    }
   ],
   "source": [
    "statement = 'i haven't slept'\n",
    "print (statement)"
   ]
  },
  {
   "cell_type": "code",
   "execution_count": 19,
   "id": "ebad7e63-56df-4095-a74f-988d6ed894c1",
   "metadata": {},
   "outputs": [
    {
     "name": "stdout",
     "output_type": "stream",
     "text": [
      "i haven't slept\n"
     ]
    }
   ],
   "source": [
    "statement = 'i haven\\'t slept'\n",
    "print (statement)"
   ]
  },
  {
   "cell_type": "code",
   "execution_count": 20,
   "id": "3da6bc02-8b7f-4911-ae05-e2c35ba17fd3",
   "metadata": {},
   "outputs": [
    {
     "name": "stdout",
     "output_type": "stream",
     "text": [
      "i haven't slept\n"
     ]
    }
   ],
   "source": [
    "statement = \"i haven\\'t slept\"\n",
    "print (statement)"
   ]
  },
  {
   "cell_type": "code",
   "execution_count": null,
   "id": "f100cae7-ccf6-41a6-b0c2-f60f0c28e7ac",
   "metadata": {},
   "outputs": [],
   "source": [
    "# keyword not to be used as variable"
   ]
  },
  {
   "cell_type": "code",
   "execution_count": 21,
   "id": "d913a031-8da8-48ae-aa36-5e2bff3b0e24",
   "metadata": {},
   "outputs": [
    {
     "name": "stdout",
     "output_type": "stream",
     "text": [
      "['False', 'None', 'True', 'and', 'as', 'assert', 'async', 'await', 'break', 'class', 'continue', 'def', 'del', 'elif', 'else', 'except', 'finally', 'for', 'from', 'global', 'if', 'import', 'in', 'is', 'lambda', 'nonlocal', 'not', 'or', 'pass', 'raise', 'return', 'try', 'while', 'with', 'yield']\n"
     ]
    }
   ],
   "source": [
    "import keyword\n",
    "print (keyword.kwlist)"
   ]
  },
  {
   "cell_type": "code",
   "execution_count": null,
   "id": "af41a1a5-2ad9-4b15-a80c-4ace176c4f4c",
   "metadata": {},
   "outputs": [],
   "source": [
    "# keyword not to be used as variable"
   ]
  },
  {
   "cell_type": "code",
   "execution_count": 22,
   "id": "7355027c-ccbc-4a40-aa6e-7f524a6a05f5",
   "metadata": {},
   "outputs": [
    {
     "name": "stdout",
     "output_type": "stream",
     "text": [
      "hello Easvar\n"
     ]
    }
   ],
   "source": [
    "print (\"hello\",\"Easvar\")"
   ]
  },
  {
   "cell_type": "code",
   "execution_count": 23,
   "id": "6d308d94-9e23-479b-a042-9ca9ea670573",
   "metadata": {},
   "outputs": [
    {
     "name": "stdout",
     "output_type": "stream",
     "text": [
      "hello Easvar?\n"
     ]
    }
   ],
   "source": [
    "print (\"hello\", \"Easvar?\")"
   ]
  },
  {
   "cell_type": "code",
   "execution_count": 24,
   "id": "a94d1850-25d4-466d-be92-4e04868f5cf9",
   "metadata": {},
   "outputs": [
    {
     "name": "stdout",
     "output_type": "stream",
     "text": [
      "hello Easvar?"
     ]
    }
   ],
   "source": [
    "print (\"hello\",\"Easvar\", end = '?')"
   ]
  },
  {
   "cell_type": "code",
   "execution_count": 25,
   "id": "08820483-5286-4fdd-a8d1-92834d161123",
   "metadata": {},
   "outputs": [
    {
     "name": "stdout",
     "output_type": "stream",
     "text": [
      "hello-Easvar?"
     ]
    }
   ],
   "source": [
    "print (\"hello\",\"Easvar\", end = '?',sep =\"-\")"
   ]
  },
  {
   "cell_type": "code",
   "execution_count": 26,
   "id": "3e843453-5534-416e-b48d-39ea6a52ec7e",
   "metadata": {},
   "outputs": [
    {
     "name": "stdout",
     "output_type": "stream",
     "text": [
      "helloEasvar?"
     ]
    }
   ],
   "source": [
    "print (\"hello\",\"Easvar\", end = '?',sep =\"\")"
   ]
  },
  {
   "cell_type": "code",
   "execution_count": 27,
   "id": "aebe124d-0774-42a1-ae98-45433d933953",
   "metadata": {},
   "outputs": [
    {
     "name": "stdout",
     "output_type": "stream",
     "text": [
      "helloEasvar!"
     ]
    }
   ],
   "source": [
    "print (\"hello\",\"Easvar\", end = '!',sep =\"\")"
   ]
  },
  {
   "cell_type": "code",
   "execution_count": 28,
   "id": "5413d495-e92f-4ce9-94b0-2a8db7b82859",
   "metadata": {},
   "outputs": [
    {
     "name": "stdout",
     "output_type": "stream",
     "text": [
      "hello Easvar!"
     ]
    }
   ],
   "source": [
    "print (\"hello\",\"Easvar\", end = '!',sep =\" \")"
   ]
  },
  {
   "cell_type": "code",
   "execution_count": null,
   "id": "6f1cc794-0c8d-4134-a0ad-0ac13b3ffe37",
   "metadata": {},
   "outputs": [],
   "source": [
    "#BODMAS - bracket, "
   ]
  },
  {
   "cell_type": "code",
   "execution_count": 32,
   "id": "9dccc5d3-3504-422f-a344-d793a7c9a9ed",
   "metadata": {},
   "outputs": [],
   "source": [
    "x = 5\n",
    "y = 3"
   ]
  },
  {
   "cell_type": "code",
   "execution_count": 33,
   "id": "3596575c-e3e8-436f-9923-fd1665c68f44",
   "metadata": {},
   "outputs": [
    {
     "data": {
      "text/plain": [
       "8"
      ]
     },
     "execution_count": 33,
     "metadata": {},
     "output_type": "execute_result"
    }
   ],
   "source": [
    "x + y"
   ]
  },
  {
   "cell_type": "code",
   "execution_count": 39,
   "id": "4736701e-c28b-4de1-ab89-0f8d4e5908d6",
   "metadata": {},
   "outputs": [
    {
     "name": "stdout",
     "output_type": "stream",
     "text": [
      "8,2,15,1.6666666666666667,1,2\n"
     ]
    }
   ],
   "source": [
    "a = x + y\n",
    "b = x-y\n",
    "c = x*y\n",
    "d = x/y\n",
    "e = x//y\n",
    "f= x%y\n",
    "print (a,b,c,d,e,f, sep = ',')"
   ]
  }
 ],
 "metadata": {
  "kernelspec": {
   "display_name": "Python 3 (ipykernel)",
   "language": "python",
   "name": "python3"
  },
  "language_info": {
   "codemirror_mode": {
    "name": "ipython",
    "version": 3
   },
   "file_extension": ".py",
   "mimetype": "text/x-python",
   "name": "python",
   "nbconvert_exporter": "python",
   "pygments_lexer": "ipython3",
   "version": "3.11.7"
  }
 },
 "nbformat": 4,
 "nbformat_minor": 5
}
