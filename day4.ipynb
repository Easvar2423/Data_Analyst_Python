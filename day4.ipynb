{
 "cells": [
  {
   "cell_type": "code",
   "execution_count": null,
   "id": "f04fbeff-70cd-4504-91ea-3f186601b93b",
   "metadata": {},
   "outputs": [],
   "source": [
    "# adding two numbers using a function"
   ]
  },
  {
   "cell_type": "code",
   "execution_count": 1,
   "id": "328c43b7-d9db-4b69-971c-7c961c3cb22c",
   "metadata": {},
   "outputs": [
    {
     "name": "stdout",
     "output_type": "stream",
     "text": [
      "sum of number:  9\n"
     ]
    }
   ],
   "source": [
    "#fuction area\n",
    "def num_add (a,b):\n",
    "    c=a+b\n",
    "    print (\"sum of number: \",c)\n",
    "########################################\n",
    "\n",
    "#program area\n",
    "num_add(4,5)"
   ]
  },
  {
   "cell_type": "code",
   "execution_count": 7,
   "id": "f7cd4900-66a5-4db5-8ad5-e430179d97e4",
   "metadata": {},
   "outputs": [],
   "source": [
    "def num_add (a,b):\n",
    "    c=a+b\n",
    "    print (\"sum of number: \",c)\n",
    "\n",
    "def num_sub (a,b):\n",
    "    c=a-b\n",
    "    print (\"sum of number: \",c)\n",
    "##############################################\n"
   ]
  },
  {
   "cell_type": "code",
   "execution_count": 4,
   "id": "2a209751-f270-46f9-81e1-8c520e1bd832",
   "metadata": {},
   "outputs": [
    {
     "name": "stdout",
     "output_type": "stream",
     "text": [
      "sum of number:  9\n"
     ]
    }
   ],
   "source": [
    "num_sub(5,4)"
   ]
  },
  {
   "cell_type": "code",
   "execution_count": 9,
   "id": "658d5605-29a4-43db-a94f-477cb5719af1",
   "metadata": {},
   "outputs": [
    {
     "name": "stdin",
     "output_type": "stream",
     "text": [
      "provide a number:  25\n",
      "provide a number:  35\n"
     ]
    },
    {
     "name": "stdout",
     "output_type": "stream",
     "text": [
      "sum of number:  60\n",
      "sum of number:  -10\n"
     ]
    }
   ],
   "source": [
    "def num_add (a,b):\n",
    "    # here a & b are the local variable, it will vanish the data after the functio execution completer\n",
    "    c=a+b\n",
    "    print (\"sum of number: \",c)\n",
    "\n",
    "def num_sub (a,b):\n",
    "    c=a-b\n",
    "    print (\"sum of number: \",c)\n",
    "############################################\n",
    "\n",
    "num1 =  int(input(\"provide a number: \"))\n",
    "num2 = int(input(\"provide a number: \"))\n",
    "num_add(num1,num2)\n",
    "num_sub(num1,num2)"
   ]
  },
  {
   "cell_type": "code",
   "execution_count": 11,
   "id": "ee8fecc8-8783-4a1b-be33-8d1efb6c952c",
   "metadata": {},
   "outputs": [
    {
     "name": "stdin",
     "output_type": "stream",
     "text": [
      "sale of product:  10000\n"
     ]
    },
    {
     "name": "stdout",
     "output_type": "stream",
     "text": [
      "sales of company:  10000\n"
     ]
    },
    {
     "name": "stdin",
     "output_type": "stream",
     "text": [
      "expense of product:  8000\n"
     ]
    },
    {
     "name": "stdout",
     "output_type": "stream",
     "text": [
      "expense of company:  8000\n",
      "profit of the company:  2000\n",
      "value of temp:  10\n",
      "good\n"
     ]
    }
   ],
   "source": [
    "#function area\n",
    "def calc_profit (s,e):## sales for sales and e for expense\n",
    "    p = s-e\n",
    "    x=10\n",
    "    return p , x\n",
    "##########################################\n",
    "\n",
    "#program area\n",
    "sales =  int(input(\"sale of product: \"))\n",
    "print(\"sales of company: \", sales)\n",
    "expense = int(input(\"expense of product: \"))\n",
    "print(\"expense of company: \", expense)\n",
    "profit , temp = calc_profit(sales,expense)\n",
    "print (\"profit of the company: \",profit)\n",
    "print (\"value of temp: \",temp)\n",
    "\n",
    "if profit>1000:\n",
    "    print(\"good\")\n",
    "else:\n",
    "    print(\"need to improve\")"
   ]
  },
  {
   "cell_type": "code",
   "execution_count": null,
   "id": "414fc223-ee9b-4fa5-b8a6-3a238d59532e",
   "metadata": {},
   "outputs": [],
   "source": [
    "'''\n",
    "Task :\n",
    "This should be done in main program area\n",
    "1. user should enter total bill amount\n",
    "2. user should enter the dicount to be applied\n",
    "\n",
    "Write a function bill_disc which will have these 2 parameter and will calculate the discounted amt\n",
    "return this discounted amount to the mail program and print the disc / final amount\n",
    "'''"
   ]
  },
  {
   "cell_type": "code",
   "execution_count": 16,
   "id": "63cf9134-44af-409e-a70c-040c71eef1a1",
   "metadata": {},
   "outputs": [
    {
     "name": "stdin",
     "output_type": "stream",
     "text": [
      "sale of product:  1000\n"
     ]
    },
    {
     "name": "stdout",
     "output_type": "stream",
     "text": [
      "bill amount for the product:  1000\n"
     ]
    },
    {
     "name": "stdin",
     "output_type": "stream",
     "text": [
      "offer in percentage:  10\n"
     ]
    },
    {
     "name": "stdout",
     "output_type": "stream",
     "text": [
      "Discount percentage:  10.0\n",
      "Rate of the product:  900.0\n",
      "discount of the product  100.0\n"
     ]
    }
   ],
   "source": [
    "## function area\n",
    "def calc_rate (B,D):## sales for sales and e for expense\n",
    "    R = B-(B*D)\n",
    "    D = B*D\n",
    "    return R , D\n",
    "###############################################\n",
    "bill_amount =  int(input(\"sale of product: \"))\n",
    "print(\"bill amount for the product: \", bill_amount)\n",
    "Discount = float(input(\"offer in percentage: \"))\n",
    "Discount_p = Discount/100\n",
    "print(\"Discount percentage: \", Discount)\n",
    "rate , discount_amount = calc_rate(bill_amount,Discount_p)\n",
    "print (\"Rate of the product: \",rate)\n",
    "print (\"discount of the product \",discount_amount)"
   ]
  },
  {
   "cell_type": "code",
   "execution_count": null,
   "id": "7ace845b-5f31-4944-9504-8dc617e4d5ee",
   "metadata": {},
   "outputs": [],
   "source": [
    "''''\n",
    "task:\n",
    "calculator fuction\n",
    "''''"
   ]
  },
  {
   "cell_type": "code",
   "execution_count": 26,
   "id": "f35b1cd9-be74-47a0-9e9c-c428118f53ce",
   "metadata": {},
   "outputs": [
    {
     "name": "stdin",
     "output_type": "stream",
     "text": [
      "Enter a Whole number : 15\n",
      "Enter a Whole number : 2\n",
      "add/sub/multi  multi\n"
     ]
    },
    {
     "name": "stdout",
     "output_type": "stream",
     "text": [
      "30\n"
     ]
    }
   ],
   "source": [
    "def calc_add (a,b):## sales for sales and e for expense\n",
    "    c = a + b\n",
    "    return c\n",
    "def calc_sub (a,b):\n",
    "    c=a-b\n",
    "    return c\n",
    "def calc_multi (a,b):\n",
    "    c=a*b\n",
    "    return c\n",
    "#######################\n",
    "a = int(input(\"Enter a Whole number :\"))\n",
    "b = int(input(\"Enter a Whole number :\"))\n",
    "c = str(input(\"add/sub/multi \"))\n",
    "if (c == \"add\"):\n",
    "    d = calc_add(a,b)\n",
    "    print (d)\n",
    "if (c == \"sub\"):\n",
    "    d = calc_sub(a,b)\n",
    "    print (d)\n",
    "if (c == \"multi\"):\n",
    "    d = calc_multi(a,b)\n",
    "    print (d)"
   ]
  },
  {
   "cell_type": "code",
   "execution_count": 33,
   "id": "4e1827cc-c998-4f0a-8b89-3ec237cc5643",
   "metadata": {},
   "outputs": [
    {
     "name": "stdin",
     "output_type": "stream",
     "text": [
      "Enter a Whole number : 15\n",
      "Enter a Whole number : 5\n",
      "enter 1 for add: \n",
      "enter 2 for sub: \n",
      "enter 3 for multi: \n",
      " 1\n"
     ]
    },
    {
     "name": "stdout",
     "output_type": "stream",
     "text": [
      "20\n"
     ]
    }
   ],
   "source": [
    "def calc_add (a,b):## sales for sales and e for expense\n",
    "    c = a + b\n",
    "    return c\n",
    "def calc_sub (a,b):\n",
    "    c=a-b\n",
    "    return c\n",
    "def calc_multi (a,b):\n",
    "    c=a*b\n",
    "    return c\n",
    "#######################\n",
    "a = int(input(\"Enter a Whole number :\"))\n",
    "b = int(input(\"Enter a Whole number :\"))\n",
    "choice = int(input(\"enter 1 for add: \\n\"\n",
    "                   \"enter 2 for sub: \\n\" \n",
    "                   \"enter 3 for multi: \\n\"))\n",
    "if (c == 1):\n",
    "    d = calc_add(a,b)\n",
    "    print (d)\n",
    "if (c == 2):\n",
    "    d = calc_sub(a,b)\n",
    "    print (d)\n",
    "if (c == 3):\n",
    "    d = calc_multi(a,b)\n",
    "    print (d)"
   ]
  },
  {
   "cell_type": "code",
   "execution_count": null,
   "id": "3f9785db-a0ff-4565-b5d6-b97d809d18db",
   "metadata": {},
   "outputs": [],
   "source": [
    "'''\n",
    "choice = int(input(\"enter 1 for add: \\n\"\n",
    "                   \"enter 2 for sub: \\n\" \n",
    "                   \"enter 3 for multi: \\n\"))\n",
    "if (c == 1):\n",
    "    d = calc_add(a,b)\n",
    "    print (d)\n",
    "if (c == 2):\n",
    "    d = calc_sub(a,b)\n",
    "    print (d)\n",
    "if (c == 3):\n",
    "    d = calc_multi(a,b)\n",
    "    print (d)\n",
    "''''''''''''''''''"
   ]
  },
  {
   "cell_type": "code",
   "execution_count": 45,
   "id": "94ab3e31-3bc1-4563-8dea-54d42db385da",
   "metadata": {},
   "outputs": [
    {
     "name": "stdin",
     "output_type": "stream",
     "text": [
      "Enter a Whole number : 100\n",
      "Enter a Whole number : 2\n",
      "Enter A for addition, S for subtraction, M for multiplication:  a\n"
     ]
    },
    {
     "name": "stdout",
     "output_type": "stream",
     "text": [
      "102\n"
     ]
    }
   ],
   "source": [
    "a = int(input(\"Enter a Whole number :\"))\n",
    "b = int(input(\"Enter a Whole number :\"))\n",
    "choice = input(\"Enter A for addition, S for subtraction, M for multiplication: \")\n",
    "if (choice==\"A\") or (choice==\"a\"):\n",
    "    d = calc_add(a,b)\n",
    "    print (d)\n",
    "elif (choice==\"S\") or (choice==\"s\"):\n",
    "    d = calc_sub(a,b)\n",
    "    print (d)\n",
    "elif (choice==\"M\") or (choice==\"m\"):\n",
    "    d = calc_multi(a,b)\n",
    "    print (d)"
   ]
  }
 ],
 "metadata": {
  "kernelspec": {
   "display_name": "Python 3 (ipykernel)",
   "language": "python",
   "name": "python3"
  },
  "language_info": {
   "codemirror_mode": {
    "name": "ipython",
    "version": 3
   },
   "file_extension": ".py",
   "mimetype": "text/x-python",
   "name": "python",
   "nbconvert_exporter": "python",
   "pygments_lexer": "ipython3",
   "version": "3.11.7"
  }
 },
 "nbformat": 4,
 "nbformat_minor": 5
}
